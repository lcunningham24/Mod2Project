{
 "cells": [
  {
   "cell_type": "code",
   "execution_count": 2,
   "metadata": {},
   "outputs": [],
   "source": [
    "import pandas as pd \n",
    "import numpy as np"
   ]
  },
  {
   "cell_type": "code",
   "execution_count": 3,
   "metadata": {
    "scrolled": true
   },
   "outputs": [
    {
     "name": "stderr",
     "output_type": "stream",
     "text": [
      "/Users/laurencunningham/opt/anaconda3/lib/python3.7/site-packages/IPython/core/interactiveshell.py:3058: DtypeWarning: Columns (9,1608,1619,1620,1621,1622,1623,1624,1625,1626,1627,1628,1629,1640,1643,1648,1657,1666,1669,1674,1683,1688,1689,1690,1691,1692,1697,1700,1703,1704,1705,1706,1707,1725,1726,1727,1728,1729,1743,1815,1816,1817,1818,1823,1824,1830,1831,1879,1880,1881,1882,1883,1884,1885,1886,1887,1888,1889,1890,1891,1892,1893,1894,1895,1896,1897,1898,1909,1910,1911,1912,1913,1957,1958,1959,1960,1961,1962,1963,1964,1965,1966,1967,1968,1969,1970,1971,1972,1973,1974,1975,1976,1983,1984) have mixed types. Specify dtype option on import or set low_memory=False.\n",
      "  interactivity=interactivity, compiler=compiler, result=result)\n"
     ]
    },
    {
     "data": {
      "text/html": [
       "<div>\n",
       "<style scoped>\n",
       "    .dataframe tbody tr th:only-of-type {\n",
       "        vertical-align: middle;\n",
       "    }\n",
       "\n",
       "    .dataframe tbody tr th {\n",
       "        vertical-align: top;\n",
       "    }\n",
       "\n",
       "    .dataframe thead th {\n",
       "        text-align: right;\n",
       "    }\n",
       "</style>\n",
       "<table border=\"1\" class=\"dataframe\">\n",
       "  <thead>\n",
       "    <tr style=\"text-align: right;\">\n",
       "      <th></th>\n",
       "      <th>UNITID</th>\n",
       "      <th>OPEID</th>\n",
       "      <th>OPEID6</th>\n",
       "      <th>INSTNM</th>\n",
       "      <th>CITY</th>\n",
       "      <th>STABBR</th>\n",
       "      <th>ZIP</th>\n",
       "      <th>ACCREDAGENCY</th>\n",
       "      <th>INSTURL</th>\n",
       "      <th>NPCURL</th>\n",
       "      <th>...</th>\n",
       "      <th>OMENRUP_PARTTIME_POOLED_SUPP</th>\n",
       "      <th>FTFTPCTPELL</th>\n",
       "      <th>FTFTPCTFLOAN</th>\n",
       "      <th>UG12MN</th>\n",
       "      <th>G12MN</th>\n",
       "      <th>SCUGFFN</th>\n",
       "      <th>POOLYRS_FTFTAIDPCT</th>\n",
       "      <th>FTFTPCTPELL_POOLED_SUPP</th>\n",
       "      <th>FTFTPCTFLOAN_POOLED_SUPP</th>\n",
       "      <th>SCUGFFN_POOLED</th>\n",
       "    </tr>\n",
       "  </thead>\n",
       "  <tbody>\n",
       "    <tr>\n",
       "      <td>0</td>\n",
       "      <td>100654</td>\n",
       "      <td>100200</td>\n",
       "      <td>1002</td>\n",
       "      <td>Alabama A &amp; M University</td>\n",
       "      <td>Normal</td>\n",
       "      <td>AL</td>\n",
       "      <td>35762</td>\n",
       "      <td>Southern Association of Colleges and Schools C...</td>\n",
       "      <td>www.aamu.edu/</td>\n",
       "      <td>www.aamu.edu/admissions-aid/tuition-fees/net-p...</td>\n",
       "      <td>...</td>\n",
       "      <td>0.3193</td>\n",
       "      <td>0.7057</td>\n",
       "      <td>0.7143</td>\n",
       "      <td>5343.0</td>\n",
       "      <td>1165.0</td>\n",
       "      <td>1288.0</td>\n",
       "      <td>2.0</td>\n",
       "      <td>0.7083</td>\n",
       "      <td>0.7287</td>\n",
       "      <td>2698.0</td>\n",
       "    </tr>\n",
       "    <tr>\n",
       "      <td>1</td>\n",
       "      <td>100663</td>\n",
       "      <td>105200</td>\n",
       "      <td>1052</td>\n",
       "      <td>University of Alabama at Birmingham</td>\n",
       "      <td>Birmingham</td>\n",
       "      <td>AL</td>\n",
       "      <td>35294-0110</td>\n",
       "      <td>Southern Association of Colleges and Schools C...</td>\n",
       "      <td>https://www.uab.edu</td>\n",
       "      <td>https://uab.studentaidcalculator.com/survey.aspx</td>\n",
       "      <td>...</td>\n",
       "      <td>0.2475</td>\n",
       "      <td>0.3788</td>\n",
       "      <td>0.5350</td>\n",
       "      <td>14445.0</td>\n",
       "      <td>10498.0</td>\n",
       "      <td>2228.0</td>\n",
       "      <td>2.0</td>\n",
       "      <td>0.3891</td>\n",
       "      <td>0.5414</td>\n",
       "      <td>4176.0</td>\n",
       "    </tr>\n",
       "    <tr>\n",
       "      <td>2</td>\n",
       "      <td>100690</td>\n",
       "      <td>2503400</td>\n",
       "      <td>25034</td>\n",
       "      <td>Amridge University</td>\n",
       "      <td>Montgomery</td>\n",
       "      <td>AL</td>\n",
       "      <td>36117-3553</td>\n",
       "      <td>Southern Association of Colleges and Schools C...</td>\n",
       "      <td>www.amridgeuniversity.edu</td>\n",
       "      <td>www2.amridgeuniversity.edu:9091/</td>\n",
       "      <td>...</td>\n",
       "      <td>0.2836</td>\n",
       "      <td>1.0000</td>\n",
       "      <td>1.0000</td>\n",
       "      <td>440.0</td>\n",
       "      <td>527.0</td>\n",
       "      <td>5.0</td>\n",
       "      <td>4.0</td>\n",
       "      <td>PrivacySuppressed</td>\n",
       "      <td>PrivacySuppressed</td>\n",
       "      <td>24.0</td>\n",
       "    </tr>\n",
       "    <tr>\n",
       "      <td>3</td>\n",
       "      <td>100706</td>\n",
       "      <td>105500</td>\n",
       "      <td>1055</td>\n",
       "      <td>University of Alabama in Huntsville</td>\n",
       "      <td>Huntsville</td>\n",
       "      <td>AL</td>\n",
       "      <td>35899</td>\n",
       "      <td>Southern Association of Colleges and Schools C...</td>\n",
       "      <td>www.uah.edu</td>\n",
       "      <td>finaid.uah.edu/</td>\n",
       "      <td>...</td>\n",
       "      <td>0.2496</td>\n",
       "      <td>0.2707</td>\n",
       "      <td>0.4556</td>\n",
       "      <td>8145.0</td>\n",
       "      <td>2443.0</td>\n",
       "      <td>1341.0</td>\n",
       "      <td>2.0</td>\n",
       "      <td>0.2378</td>\n",
       "      <td>0.4402</td>\n",
       "      <td>2544.0</td>\n",
       "    </tr>\n",
       "    <tr>\n",
       "      <td>4</td>\n",
       "      <td>100724</td>\n",
       "      <td>100500</td>\n",
       "      <td>1005</td>\n",
       "      <td>Alabama State University</td>\n",
       "      <td>Montgomery</td>\n",
       "      <td>AL</td>\n",
       "      <td>36104-0271</td>\n",
       "      <td>Southern Association of Colleges and Schools C...</td>\n",
       "      <td>www.alasu.edu</td>\n",
       "      <td>www.alasu.edu/cost-aid/tuition-costs/net-price...</td>\n",
       "      <td>...</td>\n",
       "      <td>0.2621</td>\n",
       "      <td>0.7792</td>\n",
       "      <td>0.7539</td>\n",
       "      <td>4732.0</td>\n",
       "      <td>642.0</td>\n",
       "      <td>951.0</td>\n",
       "      <td>2.0</td>\n",
       "      <td>0.7684</td>\n",
       "      <td>0.7464</td>\n",
       "      <td>2094.0</td>\n",
       "    </tr>\n",
       "  </tbody>\n",
       "</table>\n",
       "<p>5 rows × 1986 columns</p>\n",
       "</div>"
      ],
      "text/plain": [
       "   UNITID    OPEID  OPEID6                               INSTNM        CITY  \\\n",
       "0  100654   100200    1002             Alabama A & M University      Normal   \n",
       "1  100663   105200    1052  University of Alabama at Birmingham  Birmingham   \n",
       "2  100690  2503400   25034                   Amridge University  Montgomery   \n",
       "3  100706   105500    1055  University of Alabama in Huntsville  Huntsville   \n",
       "4  100724   100500    1005             Alabama State University  Montgomery   \n",
       "\n",
       "  STABBR         ZIP                                       ACCREDAGENCY  \\\n",
       "0     AL       35762  Southern Association of Colleges and Schools C...   \n",
       "1     AL  35294-0110  Southern Association of Colleges and Schools C...   \n",
       "2     AL  36117-3553  Southern Association of Colleges and Schools C...   \n",
       "3     AL       35899  Southern Association of Colleges and Schools C...   \n",
       "4     AL  36104-0271  Southern Association of Colleges and Schools C...   \n",
       "\n",
       "                     INSTURL  \\\n",
       "0              www.aamu.edu/   \n",
       "1        https://www.uab.edu   \n",
       "2  www.amridgeuniversity.edu   \n",
       "3                www.uah.edu   \n",
       "4              www.alasu.edu   \n",
       "\n",
       "                                              NPCURL  ...  \\\n",
       "0  www.aamu.edu/admissions-aid/tuition-fees/net-p...  ...   \n",
       "1   https://uab.studentaidcalculator.com/survey.aspx  ...   \n",
       "2                   www2.amridgeuniversity.edu:9091/  ...   \n",
       "3                                    finaid.uah.edu/  ...   \n",
       "4  www.alasu.edu/cost-aid/tuition-costs/net-price...  ...   \n",
       "\n",
       "   OMENRUP_PARTTIME_POOLED_SUPP  FTFTPCTPELL  FTFTPCTFLOAN   UG12MN    G12MN  \\\n",
       "0                        0.3193       0.7057        0.7143   5343.0   1165.0   \n",
       "1                        0.2475       0.3788        0.5350  14445.0  10498.0   \n",
       "2                        0.2836       1.0000        1.0000    440.0    527.0   \n",
       "3                        0.2496       0.2707        0.4556   8145.0   2443.0   \n",
       "4                        0.2621       0.7792        0.7539   4732.0    642.0   \n",
       "\n",
       "   SCUGFFN  POOLYRS_FTFTAIDPCT  FTFTPCTPELL_POOLED_SUPP  \\\n",
       "0   1288.0                 2.0                   0.7083   \n",
       "1   2228.0                 2.0                   0.3891   \n",
       "2      5.0                 4.0        PrivacySuppressed   \n",
       "3   1341.0                 2.0                   0.2378   \n",
       "4    951.0                 2.0                   0.7684   \n",
       "\n",
       "   FTFTPCTFLOAN_POOLED_SUPP  SCUGFFN_POOLED  \n",
       "0                    0.7287          2698.0  \n",
       "1                    0.5414          4176.0  \n",
       "2         PrivacySuppressed            24.0  \n",
       "3                    0.4402          2544.0  \n",
       "4                    0.7464          2094.0  \n",
       "\n",
       "[5 rows x 1986 columns]"
      ]
     },
     "execution_count": 3,
     "metadata": {},
     "output_type": "execute_result"
    }
   ],
   "source": [
    "df1 = pd.read_csv('Most-Recent-Cohorts-All-Data-Elements.csv')\n",
    "df1.head()"
   ]
  },
  {
   "cell_type": "code",
   "execution_count": 4,
   "metadata": {},
   "outputs": [
    {
     "data": {
      "text/plain": [
       "(6806, 1986)"
      ]
     },
     "execution_count": 4,
     "metadata": {},
     "output_type": "execute_result"
    }
   ],
   "source": [
    "df1.shape"
   ]
  },
  {
   "cell_type": "code",
   "execution_count": 5,
   "metadata": {},
   "outputs": [
    {
     "data": {
      "text/plain": [
       "Index(['UNITID', 'OPEID', 'OPEID6', 'INSTNM', 'CITY', 'STABBR', 'ZIP',\n",
       "       'ACCREDAGENCY', 'INSTURL', 'NPCURL',\n",
       "       ...\n",
       "       'OMENRUP_PARTTIME_POOLED_SUPP', 'FTFTPCTPELL', 'FTFTPCTFLOAN', 'UG12MN',\n",
       "       'G12MN', 'SCUGFFN', 'POOLYRS_FTFTAIDPCT', 'FTFTPCTPELL_POOLED_SUPP',\n",
       "       'FTFTPCTFLOAN_POOLED_SUPP', 'SCUGFFN_POOLED'],\n",
       "      dtype='object', length=1986)"
      ]
     },
     "execution_count": 5,
     "metadata": {},
     "output_type": "execute_result"
    }
   ],
   "source": [
    "df1.columns"
   ]
  },
  {
   "cell_type": "markdown",
   "metadata": {},
   "source": [
    "#### smaller dataframe"
   ]
  },
  {
   "cell_type": "code",
   "execution_count": 7,
   "metadata": {},
   "outputs": [
    {
     "data": {
      "text/plain": [
       "1    3111\n",
       "3    1858\n",
       "2    1837\n",
       "Name: ICLEVEL, dtype: int64"
      ]
     },
     "execution_count": 7,
     "metadata": {},
     "output_type": "execute_result"
    }
   ],
   "source": [
    "df1['ICLEVEL'].value_counts()\n",
    "# 1 is 4-year inst\n",
    "# 2 is 2-year inst\n",
    "# 3 is less than 2-year"
   ]
  },
  {
   "cell_type": "code",
   "execution_count": 8,
   "metadata": {},
   "outputs": [],
   "source": [
    "# dataframe with just 4 year institutions \n",
    "df1 = df1[df1['ICLEVEL']==1]"
   ]
  },
  {
   "cell_type": "code",
   "execution_count": 9,
   "metadata": {},
   "outputs": [
    {
     "data": {
      "text/plain": [
       "(3111, 1986)"
      ]
     },
     "execution_count": 9,
     "metadata": {},
     "output_type": "execute_result"
    }
   ],
   "source": [
    "df1.shape"
   ]
  },
  {
   "cell_type": "code",
   "execution_count": 10,
   "metadata": {},
   "outputs": [],
   "source": [
    "# dataframe with just 4 year predominantly bachelor-degree granting institutions \n",
    "df1 = df1[df1['PREDDEG']==3]"
   ]
  },
  {
   "cell_type": "code",
   "execution_count": 11,
   "metadata": {},
   "outputs": [
    {
     "data": {
      "text/plain": [
       "(2058, 1986)"
      ]
     },
     "execution_count": 11,
     "metadata": {},
     "output_type": "execute_result"
    }
   ],
   "source": [
    "df1.shape"
   ]
  },
  {
   "cell_type": "code",
   "execution_count": 19,
   "metadata": {
    "scrolled": true
   },
   "outputs": [
    {
     "data": {
      "text/plain": [
       "OMENRUP8_FTFT_POOLED    -0.665384\n",
       "OMENRUP_FIRSTTIME       -0.631273\n",
       "CDR3                    -0.627107\n",
       "OMENRUP8_FTFT           -0.624967\n",
       "OMENRUP_ALL             -0.612556\n",
       "OMENRUP_FULLTIME        -0.606616\n",
       "CDR2                    -0.598778\n",
       "FTFTPCTPELL             -0.593015\n",
       "UG25ABV                 -0.564922\n",
       "PCTPELL                 -0.555512\n",
       "OMENRUP8_FTNFT_POOLED   -0.536372\n",
       "OMENRUP_NOTFIRSTTIME    -0.502758\n",
       "OMENRUP8_FTNFT          -0.497218\n",
       "PPTUG_EF                -0.437514\n",
       "OMENRAP8_FTFT           -0.389071\n",
       "UGDS_BLACK              -0.378732\n",
       "OMENRAP_FIRSTTIME       -0.374316\n",
       "OMENRAP_FULLTIME        -0.374286\n",
       "OMENRAP_ALL             -0.370814\n",
       "OMENRAP8_FTFT_POOLED    -0.366704\n",
       "ADM_RATE_ALL            -0.361365\n",
       "ADM_RATE                -0.355987\n",
       "OMENRUP8_PTFT_POOLED    -0.351414\n",
       "OMENRAP_NOTFIRSTTIME    -0.322281\n",
       "OMENRAP8_FTNFT          -0.320027\n",
       "POOLYRS_FTFTAIDPCT      -0.312044\n",
       "POOLYRSRET_FT           -0.311249\n",
       "CIP43BACHL              -0.307020\n",
       "UNITID                  -0.305590\n",
       "PCIP43                  -0.305588\n",
       "OMENRAP8_FTNFT_POOLED   -0.304606\n",
       "OMENRUP_PARTTIME        -0.301654\n",
       "OMENRUP8_PTFT           -0.300022\n",
       "TRANS_4_POOLED          -0.299290\n",
       "OMENRUP8_PTNFT_POOLED   -0.276080\n",
       "OPEID6                  -0.274082\n",
       "TRANS_4                 -0.273472\n",
       "CIP11ASSOC              -0.270186\n",
       "CIP52ASSOC              -0.269841\n",
       "CDR3_DENOM              -0.262467\n",
       "CIP43ASSOC              -0.249319\n",
       "NUMBRANCH               -0.245776\n",
       "OMENRUP8_PTNFT          -0.244527\n",
       "OMENRYP_ALL             -0.235758\n",
       "OMENRYP_FULLTIME        -0.234108\n",
       "CCBASIC                 -0.232193\n",
       "PCIP52                  -0.223230\n",
       "RELAFFIL                -0.221407\n",
       "POOLYRS100              -0.219621\n",
       "POOLYRS                 -0.216884\n",
       "Name: C150_4_POOLED, dtype: float64"
      ]
     },
     "execution_count": 19,
     "metadata": {},
     "output_type": "execute_result"
    }
   ],
   "source": [
    "df1.corr()['C150_4_POOLED'].sort_values(ascending=True).head(50)"
   ]
  },
  {
   "cell_type": "code",
   "execution_count": 31,
   "metadata": {},
   "outputs": [],
   "source": [
    "# dataframe with the columns I think could be helpful in my analysis\n",
    "df2 = df1[['OPEFLAG', 'CONTROL', 'TUITFTE', 'INEXPFTE', 'AVGFACSAL','OPENADMP',\n",
    "           'ADM_RATE', 'SAT_AVG', 'ACTCMMID', 'COSTT4_A', 'TUITIONFEE_IN', 'TUITIONFEE_OUT',\n",
    "           'UGDS','FTFTPCTFLOAN','C150_4_NOLOANNOPELL','FTFTPCTPELL', 'DEBT_MDN', \n",
    "          'C100_4_POOLED', 'C150_4_POOLED', 'MEDIAN_HH_INC','POVERTY_RATE','INC_PCT_LO',\n",
    "          'INC_PCT_M1','INC_PCT_M2','INC_PCT_H1', 'INC_PCT_H2','PFTFAC','DEP_STAT_PCT_IND',\n",
    "          'REGION','DEBT_MDN_SUPP','UG25ABV','CDR3','CDR2','MN_EARN_WNE_INC1_P10',\n",
    "         'MN_EARN_WNE_INC2_P10','MN_EARN_WNE_INC3_P10']]"
   ]
  },
  {
   "cell_type": "code",
   "execution_count": 32,
   "metadata": {},
   "outputs": [
    {
     "data": {
      "text/plain": [
       "C150_4_POOLED          1.000000\n",
       "C100_4_POOLED          0.876786\n",
       "ACTCMMID               0.834112\n",
       "SAT_AVG                0.825884\n",
       "C150_4_NOLOANNOPELL    0.795283\n",
       "TUITIONFEE_OUT         0.697612\n",
       "COSTT4_A               0.608755\n",
       "AVGFACSAL              0.593928\n",
       "TUITIONFEE_IN          0.572610\n",
       "INEXPFTE               0.488471\n",
       "OPENADMP               0.381871\n",
       "TUITFTE                0.338561\n",
       "PFTFAC                 0.237818\n",
       "UGDS                   0.193270\n",
       "OPEFLAG                0.002234\n",
       "FTFTPCTFLOAN          -0.083558\n",
       "CONTROL               -0.117852\n",
       "REGION                -0.179319\n",
       "ADM_RATE              -0.355987\n",
       "UG25ABV               -0.564922\n",
       "FTFTPCTPELL           -0.593015\n",
       "CDR2                  -0.598778\n",
       "CDR3                  -0.627107\n",
       "Name: C150_4_POOLED, dtype: float64"
      ]
     },
     "execution_count": 32,
     "metadata": {},
     "output_type": "execute_result"
    }
   ],
   "source": [
    "df2.corr()['C150_4_POOLED'].sort_values(ascending=False)"
   ]
  },
  {
   "cell_type": "markdown",
   "metadata": {},
   "source": [
    "#### converting strings to integers"
   ]
  },
  {
   "cell_type": "code",
   "execution_count": null,
   "metadata": {},
   "outputs": [],
   "source": [
    "df2['MEDIAN_HH_INC'] = np.where(df2['MEDIAN_HH_INC']=='PrivacySuppressed',np.nan,df2['MEDIAN_HH_INC'])\n",
    "df2['MEDIAN_HH_INC'] = pd.to_numeric(df2['MEDIAN_HH_INC'])"
   ]
  },
  {
   "cell_type": "code",
   "execution_count": null,
   "metadata": {},
   "outputs": [],
   "source": [
    "df2['INC_PCT_LO'] = np.where(df2['INC_PCT_LO']=='PrivacySuppressed',np.nan,df2['INC_PCT_LO'])\n",
    "df2['INC_PCT_LO'] = pd.to_numeric(df2['INC_PCT_LO'])"
   ]
  },
  {
   "cell_type": "code",
   "execution_count": null,
   "metadata": {},
   "outputs": [],
   "source": [
    "df2['INC_PCT_M1'] = np.where(df2['INC_PCT_M1']=='PrivacySuppressed',np.nan,df2['INC_PCT_M1'])\n",
    "df2['INC_PCT_M1'] = pd.to_numeric(df2['INC_PCT_M1'])"
   ]
  },
  {
   "cell_type": "code",
   "execution_count": null,
   "metadata": {},
   "outputs": [],
   "source": [
    "df2['INC_PCT_M2'] = np.where(df2['INC_PCT_M2']=='PrivacySuppressed',np.nan,df2['INC_PCT_M2'])\n",
    "df2['INC_PCT_M2'] = pd.to_numeric(df2['INC_PCT_M2'])"
   ]
  },
  {
   "cell_type": "code",
   "execution_count": null,
   "metadata": {},
   "outputs": [],
   "source": [
    "df2['INC_PCT_H1'] = np.where(df2['INC_PCT_H1']=='PrivacySuppressed',np.nan,df2['INC_PCT_H1'])\n",
    "df2['INC_PCT_H1'] = pd.to_numeric(df2['INC_PCT_H1'])"
   ]
  },
  {
   "cell_type": "code",
   "execution_count": null,
   "metadata": {},
   "outputs": [],
   "source": [
    "df2['INC_PCT_H2'] = np.where(df2['INC_PCT_H2']=='PrivacySuppressed',np.nan,df2['INC_PCT_H2'])\n",
    "df2['INC_PCT_H2'] = pd.to_numeric(df2['INC_PCT_H2'])"
   ]
  },
  {
   "cell_type": "code",
   "execution_count": null,
   "metadata": {},
   "outputs": [],
   "source": [
    "df2['INC_PCT_H2'] = np.where(df2['INC_PCT_H2']=='PrivacySuppressed',np.nan,df2['INC_PCT_H2'])\n",
    "df2['INC_PCT_H2'] = pd.to_numeric(df2['INC_PCT_H2'])"
   ]
  },
  {
   "cell_type": "code",
   "execution_count": null,
   "metadata": {},
   "outputs": [],
   "source": [
    "df2['DEBT_MDN'] = np.where(df2['DEBT_MDN']=='PrivacySuppressed',np.nan,df2['DEBT_MDN'])\n",
    "df2['DEBT_MDN'] = pd.to_numeric(df2['DEBT_MDN'])"
   ]
  },
  {
   "cell_type": "code",
   "execution_count": null,
   "metadata": {
    "scrolled": true
   },
   "outputs": [],
   "source": [
    "df2['POVERTY_RATE'] = np.where(df2['POVERTY_RATE']=='PrivacySuppressed',np.nan,df2['POVERTY_RATE'])\n",
    "df2['POVERTY_RATE'] = pd.to_numeric(df2['POVERTY_RATE'])"
   ]
  },
  {
   "cell_type": "code",
   "execution_count": null,
   "metadata": {
    "scrolled": true
   },
   "outputs": [],
   "source": [
    "df2['DEP_STAT_PCT_IND'] = np.where(df2['DEP_STAT_PCT_IND']=='PrivacySuppressed',np.nan,df2['DEP_STAT_PCT_IND'])\n",
    "df2['DEP_STAT_PCT_IND'] = pd.to_numeric(df2['DEP_STAT_PCT_IND'])"
   ]
  },
  {
   "cell_type": "code",
   "execution_count": null,
   "metadata": {},
   "outputs": [],
   "source": [
    "df2['OPENADMP'] = np.where(df2['OPENADMP']=='PrivacySuppressed',np.nan,df2['OPENADMP'])\n",
    "df2['OPENADMP'] = pd.to_numeric(df2['OPENADMP'])"
   ]
  },
  {
   "cell_type": "code",
   "execution_count": null,
   "metadata": {
    "scrolled": true
   },
   "outputs": [],
   "source": [
    "df2"
   ]
  },
  {
   "cell_type": "code",
   "execution_count": null,
   "metadata": {},
   "outputs": [],
   "source": [
    "df2.to_csv('my_dataframe.csv')"
   ]
  }
 ],
 "metadata": {
  "kernelspec": {
   "display_name": "Python 3",
   "language": "python",
   "name": "python3"
  },
  "language_info": {
   "codemirror_mode": {
    "name": "ipython",
    "version": 3
   },
   "file_extension": ".py",
   "mimetype": "text/x-python",
   "name": "python",
   "nbconvert_exporter": "python",
   "pygments_lexer": "ipython3",
   "version": "3.7.4"
  }
 },
 "nbformat": 4,
 "nbformat_minor": 2
}
