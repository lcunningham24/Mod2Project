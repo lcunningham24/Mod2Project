{
 "cells": [
  {
   "cell_type": "code",
   "execution_count": 1,
   "metadata": {},
   "outputs": [],
   "source": [
    "import pandas as pd\n",
    "pd.set_option('display.max_columns', 300)\n",
    "import numpy as np\n",
    "import statsmodels.api as sm\n",
    "import matplotlib.pyplot as plt\n",
    "import seaborn as sns\n",
    "import scipy.stats as stats\n",
    "plt.style.use('seaborn')\n",
    "sns.set(style=\"white\")\n",
    "from statsmodels.formula.api import ols\n",
    "from math import exp\n",
    "from scipy import stats\n",
    "from sklearn.model_selection import train_test_split\n",
    "from sklearn.linear_model import LinearRegression\n",
    "from sklearn import metrics\n",
    "import warnings\n",
    "from sklearn import linear_model\n",
    "from sklearn.preprocessing import StandardScaler"
   ]
  },
  {
   "cell_type": "code",
   "execution_count": 2,
   "metadata": {},
   "outputs": [
    {
     "data": {
      "text/plain": [
       "33"
      ]
     },
     "execution_count": 2,
     "metadata": {},
     "output_type": "execute_result"
    }
   ],
   "source": [
    "df = pd.read_csv('my_dataframe.csv')\n",
    "df = df.drop(columns=['Unnamed: 0'])\n",
    "len(df.columns)"
   ]
  },
  {
   "cell_type": "markdown",
   "metadata": {},
   "source": [
    "#### target variable\n",
    "C100_4_POOLED: completion rates for full-time, first-time students who graduate within 100 percent of the expected time to completion \n",
    "\n",
    "C150_4_POOLED: completion rates for full-time, first-time students who graduate within 150 percent of the expected time to completion "
   ]
  },
  {
   "cell_type": "markdown",
   "metadata": {},
   "source": [
    "#### initial columns\n",
    "'CONTROL', 'TUITFTE', 'INEXPFTE', 'AVGFACSAL', 'OPENADMP', 'ADM_RATE',\n",
    "       'SAT_AVG', 'ACTCMMID', 'COSTT4_A', 'TUITIONFEE_IN', 'TUITIONFEE_OUT',\n",
    "       'C150_4_NOLOANNOPELL', 'FTFTPCTPELL', 'DEBT_MDN', 'C100_4_POOLED',\n",
    "       'C150_4_POOLED', 'MEDIAN_HH_INC', 'POVERTY_RATE', 'INC_PCT_LO',\n",
    "       'INC_PCT_M1', 'INC_PCT_M2', 'INC_PCT_H1', 'INC_PCT_H2', 'PFTFAC',\n",
    "       'DEP_STAT_PCT_IND', 'REGION', 'DEBT_MDN_SUPP', 'UG25ABV', 'CDR3',\n",
    "       'CDR2', 'MN_EARN_WNE_INC1_P10', 'MN_EARN_WNE_INC2_P10',\n",
    "       'MN_EARN_WNE_INC3_P10'"
   ]
  },
  {
   "cell_type": "code",
   "execution_count": 3,
   "metadata": {
    "scrolled": true
   },
   "outputs": [
    {
     "data": {
      "text/plain": [
       "C150_4_POOLED          1.000000\n",
       "C100_4_POOLED          0.876786\n",
       "ACTCMMID               0.834112\n",
       "SAT_AVG                0.825884\n",
       "C150_4_NOLOANNOPELL    0.795283\n",
       "INC_PCT_H2             0.765626\n",
       "TUITIONFEE_OUT         0.697612\n",
       "COSTT4_A               0.608755\n",
       "AVGFACSAL              0.593928\n",
       "TUITIONFEE_IN          0.572610\n",
       "MEDIAN_HH_INC          0.550768\n",
       "INEXPFTE               0.488471\n",
       "INC_PCT_H1             0.469297\n",
       "DEBT_MDN               0.409814\n",
       "OPENADMP               0.381871\n",
       "TUITFTE                0.338561\n",
       "PFTFAC                 0.237818\n",
       "INC_PCT_M2             0.172434\n",
       "CONTROL               -0.117852\n",
       "REGION                -0.179319\n",
       "POVERTY_RATE          -0.348215\n",
       "ADM_RATE              -0.355987\n",
       "INC_PCT_M1            -0.482295\n",
       "DEP_STAT_PCT_IND      -0.550656\n",
       "UG25ABV               -0.564922\n",
       "FTFTPCTPELL           -0.593015\n",
       "CDR2                  -0.598778\n",
       "CDR3                  -0.627107\n",
       "INC_PCT_LO            -0.652497\n",
       "Name: C150_4_POOLED, dtype: float64"
      ]
     },
     "execution_count": 3,
     "metadata": {},
     "output_type": "execute_result"
    }
   ],
   "source": [
    "df.corr()['C150_4_POOLED'].sort_values(ascending=False)"
   ]
  },
  {
   "cell_type": "code",
   "execution_count": 4,
   "metadata": {},
   "outputs": [
    {
     "data": {
      "text/plain": [
       "C150_4_POOLED          1.000000\n",
       "ACTCMMID               0.834112\n",
       "SAT_AVG                0.825884\n",
       "C150_4_NOLOANNOPELL    0.795283\n",
       "INC_PCT_H2             0.765626\n",
       "TUITIONFEE_OUT         0.697612\n",
       "COSTT4_A               0.608755\n",
       "AVGFACSAL              0.593928\n",
       "TUITIONFEE_IN          0.572610\n",
       "MEDIAN_HH_INC          0.550768\n",
       "INEXPFTE               0.488471\n",
       "INC_PCT_H1             0.469297\n",
       "DEBT_MDN               0.409814\n",
       "POVERTY_RATE          -0.348215\n",
       "ADM_RATE              -0.355987\n",
       "INC_PCT_M1            -0.482295\n",
       "DEP_STAT_PCT_IND      -0.550656\n",
       "UG25ABV               -0.564922\n",
       "FTFTPCTPELL           -0.593015\n",
       "CDR2                  -0.598778\n",
       "CDR3                  -0.627107\n",
       "INC_PCT_LO            -0.652497\n",
       "Name: C150_4_POOLED, dtype: float64"
      ]
     },
     "execution_count": 4,
     "metadata": {},
     "output_type": "execute_result"
    }
   ],
   "source": [
    "# new dataframe with just my initial features I chose\n",
    "df_model = df[['C150_4_POOLED','ACTCMMID','SAT_AVG','C150_4_NOLOANNOPELL','INC_PCT_H2','TUITIONFEE_OUT','COSTT4_A',\n",
    "              'AVGFACSAL','TUITIONFEE_IN','MEDIAN_HH_INC','INEXPFTE','INC_PCT_H1','DEBT_MDN','INC_PCT_LO',\n",
    "              'CDR3','CDR2','FTFTPCTPELL','UG25ABV','DEP_STAT_PCT_IND','INC_PCT_M1','ADM_RATE','POVERTY_RATE']]\n",
    "df_model.corr()['C150_4_POOLED'].sort_values(ascending=False)"
   ]
  },
  {
   "cell_type": "markdown",
   "metadata": {},
   "source": [
    "### 1. Multiple Linear Regression "
   ]
  },
  {
   "cell_type": "markdown",
   "metadata": {},
   "source": [
    "##### initial mlr model "
   ]
  },
  {
   "cell_type": "code",
   "execution_count": 5,
   "metadata": {},
   "outputs": [
    {
     "data": {
      "text/html": [
       "<table class=\"simpletable\">\n",
       "<caption>OLS Regression Results</caption>\n",
       "<tr>\n",
       "  <th>Dep. Variable:</th>      <td>C150_4_POOLED</td>  <th>  R-squared:         </th> <td>   0.893</td>\n",
       "</tr>\n",
       "<tr>\n",
       "  <th>Model:</th>                   <td>OLS</td>       <th>  Adj. R-squared:    </th> <td>   0.891</td>\n",
       "</tr>\n",
       "<tr>\n",
       "  <th>Method:</th>             <td>Least Squares</td>  <th>  F-statistic:       </th> <td>   433.3</td>\n",
       "</tr>\n",
       "<tr>\n",
       "  <th>Date:</th>             <td>Mon, 22 Jun 2020</td> <th>  Prob (F-statistic):</th>  <td>  0.00</td> \n",
       "</tr>\n",
       "<tr>\n",
       "  <th>Time:</th>                 <td>01:41:45</td>     <th>  Log-Likelihood:    </th> <td>  1675.6</td>\n",
       "</tr>\n",
       "<tr>\n",
       "  <th>No. Observations:</th>      <td>  1117</td>      <th>  AIC:               </th> <td>  -3307.</td>\n",
       "</tr>\n",
       "<tr>\n",
       "  <th>Df Residuals:</th>          <td>  1095</td>      <th>  BIC:               </th> <td>  -3197.</td>\n",
       "</tr>\n",
       "<tr>\n",
       "  <th>Df Model:</th>              <td>    21</td>      <th>                     </th>     <td> </td>   \n",
       "</tr>\n",
       "<tr>\n",
       "  <th>Covariance Type:</th>      <td>nonrobust</td>    <th>                     </th>     <td> </td>   \n",
       "</tr>\n",
       "</table>\n",
       "<table class=\"simpletable\">\n",
       "<tr>\n",
       "           <td></td>              <th>coef</th>     <th>std err</th>      <th>t</th>      <th>P>|t|</th>  <th>[0.025</th>    <th>0.975]</th>  \n",
       "</tr>\n",
       "<tr>\n",
       "  <th>Intercept</th>           <td>   -0.1715</td> <td>    0.106</td> <td>   -1.613</td> <td> 0.107</td> <td>   -0.380</td> <td>    0.037</td>\n",
       "</tr>\n",
       "<tr>\n",
       "  <th>SAT_AVG</th>             <td>    0.0003</td> <td> 7.12e-05</td> <td>    3.794</td> <td> 0.000</td> <td>    0.000</td> <td>    0.000</td>\n",
       "</tr>\n",
       "<tr>\n",
       "  <th>ACTCMMID</th>            <td>    0.0004</td> <td>    0.002</td> <td>    0.175</td> <td> 0.861</td> <td>   -0.004</td> <td>    0.005</td>\n",
       "</tr>\n",
       "<tr>\n",
       "  <th>C150_4_NOLOANNOPELL</th> <td>    0.4012</td> <td>    0.016</td> <td>   24.591</td> <td> 0.000</td> <td>    0.369</td> <td>    0.433</td>\n",
       "</tr>\n",
       "<tr>\n",
       "  <th>INC_PCT_H2</th>          <td>    0.0245</td> <td>    0.093</td> <td>    0.262</td> <td> 0.793</td> <td>   -0.158</td> <td>    0.207</td>\n",
       "</tr>\n",
       "<tr>\n",
       "  <th>TUITIONFEE_OUT</th>      <td> 6.689e-07</td> <td> 4.37e-07</td> <td>    1.530</td> <td> 0.126</td> <td>-1.89e-07</td> <td> 1.53e-06</td>\n",
       "</tr>\n",
       "<tr>\n",
       "  <th>COSTT4_A</th>            <td> 2.303e-06</td> <td> 6.26e-07</td> <td>    3.679</td> <td> 0.000</td> <td> 1.07e-06</td> <td> 3.53e-06</td>\n",
       "</tr>\n",
       "<tr>\n",
       "  <th>AVGFACSAL</th>           <td> 3.968e-06</td> <td> 1.35e-06</td> <td>    2.940</td> <td> 0.003</td> <td> 1.32e-06</td> <td> 6.62e-06</td>\n",
       "</tr>\n",
       "<tr>\n",
       "  <th>TUITIONFEE_IN</th>       <td>-2.528e-06</td> <td> 6.93e-07</td> <td>   -3.647</td> <td> 0.000</td> <td>-3.89e-06</td> <td>-1.17e-06</td>\n",
       "</tr>\n",
       "<tr>\n",
       "  <th>MEDIAN_HH_INC</th>       <td> 1.552e-06</td> <td>  3.4e-07</td> <td>    4.561</td> <td> 0.000</td> <td> 8.84e-07</td> <td> 2.22e-06</td>\n",
       "</tr>\n",
       "<tr>\n",
       "  <th>INEXPFTE</th>            <td> 2.277e-07</td> <td> 2.78e-07</td> <td>    0.820</td> <td> 0.412</td> <td>-3.17e-07</td> <td> 7.72e-07</td>\n",
       "</tr>\n",
       "<tr>\n",
       "  <th>INC_PCT_H1</th>          <td>    0.0196</td> <td>    0.146</td> <td>    0.134</td> <td> 0.893</td> <td>   -0.266</td> <td>    0.305</td>\n",
       "</tr>\n",
       "<tr>\n",
       "  <th>DEBT_MDN</th>            <td> 3.832e-06</td> <td> 5.66e-07</td> <td>    6.773</td> <td> 0.000</td> <td> 2.72e-06</td> <td> 4.94e-06</td>\n",
       "</tr>\n",
       "<tr>\n",
       "  <th>INC_PCT_LO</th>          <td>   -0.0115</td> <td>    0.095</td> <td>   -0.121</td> <td> 0.903</td> <td>   -0.198</td> <td>    0.175</td>\n",
       "</tr>\n",
       "<tr>\n",
       "  <th>CDR3</th>                <td>   -0.4958</td> <td>    0.078</td> <td>   -6.376</td> <td> 0.000</td> <td>   -0.648</td> <td>   -0.343</td>\n",
       "</tr>\n",
       "<tr>\n",
       "  <th>CDR2</th>                <td>   -0.3799</td> <td>    0.077</td> <td>   -4.918</td> <td> 0.000</td> <td>   -0.532</td> <td>   -0.228</td>\n",
       "</tr>\n",
       "<tr>\n",
       "  <th>FTFTPCTPELL</th>         <td>   -0.0225</td> <td>    0.026</td> <td>   -0.853</td> <td> 0.394</td> <td>   -0.074</td> <td>    0.029</td>\n",
       "</tr>\n",
       "<tr>\n",
       "  <th>UG25ABV</th>             <td>   -0.1592</td> <td>    0.031</td> <td>   -5.066</td> <td> 0.000</td> <td>   -0.221</td> <td>   -0.098</td>\n",
       "</tr>\n",
       "<tr>\n",
       "  <th>DEP_STAT_PCT_IND</th>    <td>    0.0448</td> <td>    0.029</td> <td>    1.569</td> <td> 0.117</td> <td>   -0.011</td> <td>    0.101</td>\n",
       "</tr>\n",
       "<tr>\n",
       "  <th>INC_PCT_M1</th>          <td>   -0.1085</td> <td>    0.154</td> <td>   -0.706</td> <td> 0.480</td> <td>   -0.410</td> <td>    0.193</td>\n",
       "</tr>\n",
       "<tr>\n",
       "  <th>ADM_RATE</th>            <td>   -0.0150</td> <td>    0.011</td> <td>   -1.424</td> <td> 0.155</td> <td>   -0.036</td> <td>    0.006</td>\n",
       "</tr>\n",
       "<tr>\n",
       "  <th>POVERTY_RATE</th>        <td>    0.0030</td> <td>    0.001</td> <td>    2.671</td> <td> 0.008</td> <td>    0.001</td> <td>    0.005</td>\n",
       "</tr>\n",
       "</table>\n",
       "<table class=\"simpletable\">\n",
       "<tr>\n",
       "  <th>Omnibus:</th>       <td>49.186</td> <th>  Durbin-Watson:     </th> <td>   1.849</td>\n",
       "</tr>\n",
       "<tr>\n",
       "  <th>Prob(Omnibus):</th> <td> 0.000</td> <th>  Jarque-Bera (JB):  </th> <td> 150.484</td>\n",
       "</tr>\n",
       "<tr>\n",
       "  <th>Skew:</th>          <td> 0.045</td> <th>  Prob(JB):          </th> <td>2.10e-33</td>\n",
       "</tr>\n",
       "<tr>\n",
       "  <th>Kurtosis:</th>      <td> 4.796</td> <th>  Cond. No.          </th> <td>1.33e+07</td>\n",
       "</tr>\n",
       "</table><br/><br/>Warnings:<br/>[1] Standard Errors assume that the covariance matrix of the errors is correctly specified.<br/>[2] The condition number is large, 1.33e+07. This might indicate that there are<br/>strong multicollinearity or other numerical problems."
      ],
      "text/plain": [
       "<class 'statsmodels.iolib.summary.Summary'>\n",
       "\"\"\"\n",
       "                            OLS Regression Results                            \n",
       "==============================================================================\n",
       "Dep. Variable:          C150_4_POOLED   R-squared:                       0.893\n",
       "Model:                            OLS   Adj. R-squared:                  0.891\n",
       "Method:                 Least Squares   F-statistic:                     433.3\n",
       "Date:                Mon, 22 Jun 2020   Prob (F-statistic):               0.00\n",
       "Time:                        01:41:45   Log-Likelihood:                 1675.6\n",
       "No. Observations:                1117   AIC:                            -3307.\n",
       "Df Residuals:                    1095   BIC:                            -3197.\n",
       "Df Model:                          21                                         \n",
       "Covariance Type:            nonrobust                                         \n",
       "=======================================================================================\n",
       "                          coef    std err          t      P>|t|      [0.025      0.975]\n",
       "---------------------------------------------------------------------------------------\n",
       "Intercept              -0.1715      0.106     -1.613      0.107      -0.380       0.037\n",
       "SAT_AVG                 0.0003   7.12e-05      3.794      0.000       0.000       0.000\n",
       "ACTCMMID                0.0004      0.002      0.175      0.861      -0.004       0.005\n",
       "C150_4_NOLOANNOPELL     0.4012      0.016     24.591      0.000       0.369       0.433\n",
       "INC_PCT_H2              0.0245      0.093      0.262      0.793      -0.158       0.207\n",
       "TUITIONFEE_OUT       6.689e-07   4.37e-07      1.530      0.126   -1.89e-07    1.53e-06\n",
       "COSTT4_A             2.303e-06   6.26e-07      3.679      0.000    1.07e-06    3.53e-06\n",
       "AVGFACSAL            3.968e-06   1.35e-06      2.940      0.003    1.32e-06    6.62e-06\n",
       "TUITIONFEE_IN       -2.528e-06   6.93e-07     -3.647      0.000   -3.89e-06   -1.17e-06\n",
       "MEDIAN_HH_INC        1.552e-06    3.4e-07      4.561      0.000    8.84e-07    2.22e-06\n",
       "INEXPFTE             2.277e-07   2.78e-07      0.820      0.412   -3.17e-07    7.72e-07\n",
       "INC_PCT_H1              0.0196      0.146      0.134      0.893      -0.266       0.305\n",
       "DEBT_MDN             3.832e-06   5.66e-07      6.773      0.000    2.72e-06    4.94e-06\n",
       "INC_PCT_LO             -0.0115      0.095     -0.121      0.903      -0.198       0.175\n",
       "CDR3                   -0.4958      0.078     -6.376      0.000      -0.648      -0.343\n",
       "CDR2                   -0.3799      0.077     -4.918      0.000      -0.532      -0.228\n",
       "FTFTPCTPELL            -0.0225      0.026     -0.853      0.394      -0.074       0.029\n",
       "UG25ABV                -0.1592      0.031     -5.066      0.000      -0.221      -0.098\n",
       "DEP_STAT_PCT_IND        0.0448      0.029      1.569      0.117      -0.011       0.101\n",
       "INC_PCT_M1             -0.1085      0.154     -0.706      0.480      -0.410       0.193\n",
       "ADM_RATE               -0.0150      0.011     -1.424      0.155      -0.036       0.006\n",
       "POVERTY_RATE            0.0030      0.001      2.671      0.008       0.001       0.005\n",
       "==============================================================================\n",
       "Omnibus:                       49.186   Durbin-Watson:                   1.849\n",
       "Prob(Omnibus):                  0.000   Jarque-Bera (JB):              150.484\n",
       "Skew:                           0.045   Prob(JB):                     2.10e-33\n",
       "Kurtosis:                       4.796   Cond. No.                     1.33e+07\n",
       "==============================================================================\n",
       "\n",
       "Warnings:\n",
       "[1] Standard Errors assume that the covariance matrix of the errors is correctly specified.\n",
       "[2] The condition number is large, 1.33e+07. This might indicate that there are\n",
       "strong multicollinearity or other numerical problems.\n",
       "\"\"\""
      ]
     },
     "execution_count": 5,
     "metadata": {},
     "output_type": "execute_result"
    }
   ],
   "source": [
    "mlr_model1 = ols(formula='C150_4_POOLED~SAT_AVG+ACTCMMID+SAT_AVG+C150_4_NOLOANNOPELL+INC_PCT_H2+TUITIONFEE_OUT+COSTT4_A+AVGFACSAL+TUITIONFEE_IN+MEDIAN_HH_INC+INEXPFTE+INC_PCT_H1+DEBT_MDN+INC_PCT_LO+CDR3+CDR2+FTFTPCTPELL+UG25ABV+DEP_STAT_PCT_IND+INC_PCT_M1+ADM_RATE+POVERTY_RATE',data=df_model).fit()\n",
    "mlr_model1.summary()"
   ]
  },
  {
   "cell_type": "markdown",
   "metadata": {},
   "source": [
    "###### removing features that are multicolinear"
   ]
  },
  {
   "cell_type": "code",
   "execution_count": 6,
   "metadata": {},
   "outputs": [
    {
     "data": {
      "text/html": [
       "<div>\n",
       "<style scoped>\n",
       "    .dataframe tbody tr th:only-of-type {\n",
       "        vertical-align: middle;\n",
       "    }\n",
       "\n",
       "    .dataframe tbody tr th {\n",
       "        vertical-align: top;\n",
       "    }\n",
       "\n",
       "    .dataframe thead th {\n",
       "        text-align: right;\n",
       "    }\n",
       "</style>\n",
       "<table border=\"1\" class=\"dataframe\">\n",
       "  <thead>\n",
       "    <tr style=\"text-align: right;\">\n",
       "      <th></th>\n",
       "      <th>cc</th>\n",
       "    </tr>\n",
       "    <tr>\n",
       "      <th>pairs</th>\n",
       "      <th></th>\n",
       "    </tr>\n",
       "  </thead>\n",
       "  <tbody>\n",
       "    <tr>\n",
       "      <td>(SAT_AVG, ACTCMMID)</td>\n",
       "      <td>0.979236</td>\n",
       "    </tr>\n",
       "    <tr>\n",
       "      <td>(COSTT4_A, TUITIONFEE_IN)</td>\n",
       "      <td>0.977055</td>\n",
       "    </tr>\n",
       "    <tr>\n",
       "      <td>(UG25ABV, DEP_STAT_PCT_IND)</td>\n",
       "      <td>0.912019</td>\n",
       "    </tr>\n",
       "    <tr>\n",
       "      <td>(COSTT4_A, TUITIONFEE_OUT)</td>\n",
       "      <td>0.908108</td>\n",
       "    </tr>\n",
       "    <tr>\n",
       "      <td>(TUITIONFEE_IN, TUITIONFEE_OUT)</td>\n",
       "      <td>0.902732</td>\n",
       "    </tr>\n",
       "    <tr>\n",
       "      <td>(INC_PCT_LO, INC_PCT_H2)</td>\n",
       "      <td>0.878684</td>\n",
       "    </tr>\n",
       "    <tr>\n",
       "      <td>(INC_PCT_H1, INC_PCT_LO)</td>\n",
       "      <td>0.865743</td>\n",
       "    </tr>\n",
       "    <tr>\n",
       "      <td>(C150_4_POOLED, ACTCMMID)</td>\n",
       "      <td>0.834112</td>\n",
       "    </tr>\n",
       "    <tr>\n",
       "      <td>(SAT_AVG, C150_4_POOLED)</td>\n",
       "      <td>0.825884</td>\n",
       "    </tr>\n",
       "    <tr>\n",
       "      <td>(C150_4_NOLOANNOPELL, C150_4_POOLED)</td>\n",
       "      <td>0.795283</td>\n",
       "    </tr>\n",
       "    <tr>\n",
       "      <td>(ACTCMMID, FTFTPCTPELL)</td>\n",
       "      <td>0.768686</td>\n",
       "    </tr>\n",
       "    <tr>\n",
       "      <td>(INC_PCT_H2, C150_4_POOLED)</td>\n",
       "      <td>0.765626</td>\n",
       "    </tr>\n",
       "    <tr>\n",
       "      <td>(FTFTPCTPELL, SAT_AVG)</td>\n",
       "      <td>0.765375</td>\n",
       "    </tr>\n",
       "    <tr>\n",
       "      <td>(INC_PCT_H2, INC_PCT_M1)</td>\n",
       "      <td>0.761920</td>\n",
       "    </tr>\n",
       "    <tr>\n",
       "      <td>(MEDIAN_HH_INC, POVERTY_RATE)</td>\n",
       "      <td>0.759152</td>\n",
       "    </tr>\n",
       "  </tbody>\n",
       "</table>\n",
       "</div>"
      ],
      "text/plain": [
       "                                            cc\n",
       "pairs                                         \n",
       "(SAT_AVG, ACTCMMID)                   0.979236\n",
       "(COSTT4_A, TUITIONFEE_IN)             0.977055\n",
       "(UG25ABV, DEP_STAT_PCT_IND)           0.912019\n",
       "(COSTT4_A, TUITIONFEE_OUT)            0.908108\n",
       "(TUITIONFEE_IN, TUITIONFEE_OUT)       0.902732\n",
       "(INC_PCT_LO, INC_PCT_H2)              0.878684\n",
       "(INC_PCT_H1, INC_PCT_LO)              0.865743\n",
       "(C150_4_POOLED, ACTCMMID)             0.834112\n",
       "(SAT_AVG, C150_4_POOLED)              0.825884\n",
       "(C150_4_NOLOANNOPELL, C150_4_POOLED)  0.795283\n",
       "(ACTCMMID, FTFTPCTPELL)               0.768686\n",
       "(INC_PCT_H2, C150_4_POOLED)           0.765626\n",
       "(FTFTPCTPELL, SAT_AVG)                0.765375\n",
       "(INC_PCT_H2, INC_PCT_M1)              0.761920\n",
       "(MEDIAN_HH_INC, POVERTY_RATE)         0.759152"
      ]
     },
     "execution_count": 6,
     "metadata": {},
     "output_type": "execute_result"
    }
   ],
   "source": [
    "# checking which pairs in my model dataframe which are highly correlated (>.75)\n",
    "col = df_model.corr().abs().stack().reset_index().sort_values(0, ascending=False)\n",
    "col['pairs'] = list(zip(col.level_0, col.level_1))\n",
    "col.set_index(['pairs'], inplace = True)\n",
    "col.drop(columns=['level_1', 'level_0'], inplace = True)\n",
    "col.columns = ['cc']\n",
    "col.drop_duplicates(inplace=True)\n",
    "col = col[(col.cc>.75) & (col.cc <1)]\n",
    "col"
   ]
  },
  {
   "cell_type": "code",
   "execution_count": 7,
   "metadata": {},
   "outputs": [],
   "source": [
    "# removing collinear features \n",
    "df_model = df_model.drop(columns=['ACTCMMID','TUITIONFEE_IN','TUITIONFEE_OUT','INC_PCT_H2','INC_PCT_H1','POVERTY_RATE'])"
   ]
  },
  {
   "cell_type": "code",
   "execution_count": 8,
   "metadata": {},
   "outputs": [],
   "source": [
    "df_model = df_model.drop(columns=['DEP_STAT_PCT_IND'])"
   ]
  },
  {
   "cell_type": "code",
   "execution_count": 9,
   "metadata": {
    "scrolled": true
   },
   "outputs": [
    {
     "data": {
      "text/html": [
       "<table class=\"simpletable\">\n",
       "<caption>OLS Regression Results</caption>\n",
       "<tr>\n",
       "  <th>Dep. Variable:</th>      <td>C150_4_POOLED</td>  <th>  R-squared:         </th> <td>   0.897</td>\n",
       "</tr>\n",
       "<tr>\n",
       "  <th>Model:</th>                   <td>OLS</td>       <th>  Adj. R-squared:    </th> <td>   0.896</td>\n",
       "</tr>\n",
       "<tr>\n",
       "  <th>Method:</th>             <td>Least Squares</td>  <th>  F-statistic:       </th> <td>   794.1</td>\n",
       "</tr>\n",
       "<tr>\n",
       "  <th>Date:</th>             <td>Mon, 22 Jun 2020</td> <th>  Prob (F-statistic):</th>  <td>  0.00</td> \n",
       "</tr>\n",
       "<tr>\n",
       "  <th>Time:</th>                 <td>01:41:46</td>     <th>  Log-Likelihood:    </th> <td>  1779.2</td>\n",
       "</tr>\n",
       "<tr>\n",
       "  <th>No. Observations:</th>      <td>  1199</td>      <th>  AIC:               </th> <td>  -3530.</td>\n",
       "</tr>\n",
       "<tr>\n",
       "  <th>Df Residuals:</th>          <td>  1185</td>      <th>  BIC:               </th> <td>  -3459.</td>\n",
       "</tr>\n",
       "<tr>\n",
       "  <th>Df Model:</th>              <td>    13</td>      <th>                     </th>     <td> </td>   \n",
       "</tr>\n",
       "<tr>\n",
       "  <th>Covariance Type:</th>      <td>nonrobust</td>    <th>                     </th>     <td> </td>   \n",
       "</tr>\n",
       "</table>\n",
       "<table class=\"simpletable\">\n",
       "<tr>\n",
       "           <td></td>              <th>coef</th>     <th>std err</th>      <th>t</th>      <th>P>|t|</th>  <th>[0.025</th>    <th>0.975]</th>  \n",
       "</tr>\n",
       "<tr>\n",
       "  <th>Intercept</th>           <td>   -0.1432</td> <td>    0.045</td> <td>   -3.149</td> <td> 0.002</td> <td>   -0.232</td> <td>   -0.054</td>\n",
       "</tr>\n",
       "<tr>\n",
       "  <th>SAT_AVG</th>             <td>    0.0003</td> <td> 3.15e-05</td> <td>    9.938</td> <td> 0.000</td> <td>    0.000</td> <td>    0.000</td>\n",
       "</tr>\n",
       "<tr>\n",
       "  <th>C150_4_NOLOANNOPELL</th> <td>    0.4030</td> <td>    0.015</td> <td>   26.304</td> <td> 0.000</td> <td>    0.373</td> <td>    0.433</td>\n",
       "</tr>\n",
       "<tr>\n",
       "  <th>AVGFACSAL</th>           <td> 5.564e-06</td> <td> 1.17e-06</td> <td>    4.740</td> <td> 0.000</td> <td> 3.26e-06</td> <td> 7.87e-06</td>\n",
       "</tr>\n",
       "<tr>\n",
       "  <th>COSTT4_A</th>            <td> 4.054e-07</td> <td> 1.57e-07</td> <td>    2.579</td> <td> 0.010</td> <td>  9.7e-08</td> <td> 7.14e-07</td>\n",
       "</tr>\n",
       "<tr>\n",
       "  <th>MEDIAN_HH_INC</th>       <td> 9.665e-07</td> <td>  2.2e-07</td> <td>    4.385</td> <td> 0.000</td> <td> 5.34e-07</td> <td>  1.4e-06</td>\n",
       "</tr>\n",
       "<tr>\n",
       "  <th>INEXPFTE</th>            <td>-5.737e-08</td> <td> 2.58e-07</td> <td>   -0.222</td> <td> 0.824</td> <td>-5.64e-07</td> <td>  4.5e-07</td>\n",
       "</tr>\n",
       "<tr>\n",
       "  <th>DEBT_MDN</th>            <td> 3.867e-06</td> <td> 5.07e-07</td> <td>    7.627</td> <td> 0.000</td> <td> 2.87e-06</td> <td> 4.86e-06</td>\n",
       "</tr>\n",
       "<tr>\n",
       "  <th>INC_PCT_LO</th>          <td>    0.0508</td> <td>    0.029</td> <td>    1.770</td> <td> 0.077</td> <td>   -0.006</td> <td>    0.107</td>\n",
       "</tr>\n",
       "<tr>\n",
       "  <th>CDR3</th>                <td>   -0.5145</td> <td>    0.071</td> <td>   -7.294</td> <td> 0.000</td> <td>   -0.653</td> <td>   -0.376</td>\n",
       "</tr>\n",
       "<tr>\n",
       "  <th>CDR2</th>                <td>   -0.4257</td> <td>    0.073</td> <td>   -5.851</td> <td> 0.000</td> <td>   -0.568</td> <td>   -0.283</td>\n",
       "</tr>\n",
       "<tr>\n",
       "  <th>FTFTPCTPELL</th>         <td>   -0.0237</td> <td>    0.022</td> <td>   -1.064</td> <td> 0.288</td> <td>   -0.067</td> <td>    0.020</td>\n",
       "</tr>\n",
       "<tr>\n",
       "  <th>UG25ABV</th>             <td>   -0.1575</td> <td>    0.018</td> <td>   -8.981</td> <td> 0.000</td> <td>   -0.192</td> <td>   -0.123</td>\n",
       "</tr>\n",
       "<tr>\n",
       "  <th>ADM_RATE</th>            <td>   -0.0212</td> <td>    0.010</td> <td>   -2.080</td> <td> 0.038</td> <td>   -0.041</td> <td>   -0.001</td>\n",
       "</tr>\n",
       "</table>\n",
       "<table class=\"simpletable\">\n",
       "<tr>\n",
       "  <th>Omnibus:</th>       <td>57.602</td> <th>  Durbin-Watson:     </th> <td>   1.861</td>\n",
       "</tr>\n",
       "<tr>\n",
       "  <th>Prob(Omnibus):</th> <td> 0.000</td> <th>  Jarque-Bera (JB):  </th> <td> 191.740</td>\n",
       "</tr>\n",
       "<tr>\n",
       "  <th>Skew:</th>          <td>-0.013</td> <th>  Prob(JB):          </th> <td>2.31e-42</td>\n",
       "</tr>\n",
       "<tr>\n",
       "  <th>Kurtosis:</th>      <td> 4.959</td> <th>  Cond. No.          </th> <td>4.34e+06</td>\n",
       "</tr>\n",
       "</table><br/><br/>Warnings:<br/>[1] Standard Errors assume that the covariance matrix of the errors is correctly specified.<br/>[2] The condition number is large, 4.34e+06. This might indicate that there are<br/>strong multicollinearity or other numerical problems."
      ],
      "text/plain": [
       "<class 'statsmodels.iolib.summary.Summary'>\n",
       "\"\"\"\n",
       "                            OLS Regression Results                            \n",
       "==============================================================================\n",
       "Dep. Variable:          C150_4_POOLED   R-squared:                       0.897\n",
       "Model:                            OLS   Adj. R-squared:                  0.896\n",
       "Method:                 Least Squares   F-statistic:                     794.1\n",
       "Date:                Mon, 22 Jun 2020   Prob (F-statistic):               0.00\n",
       "Time:                        01:41:46   Log-Likelihood:                 1779.2\n",
       "No. Observations:                1199   AIC:                            -3530.\n",
       "Df Residuals:                    1185   BIC:                            -3459.\n",
       "Df Model:                          13                                         \n",
       "Covariance Type:            nonrobust                                         \n",
       "=======================================================================================\n",
       "                          coef    std err          t      P>|t|      [0.025      0.975]\n",
       "---------------------------------------------------------------------------------------\n",
       "Intercept              -0.1432      0.045     -3.149      0.002      -0.232      -0.054\n",
       "SAT_AVG                 0.0003   3.15e-05      9.938      0.000       0.000       0.000\n",
       "C150_4_NOLOANNOPELL     0.4030      0.015     26.304      0.000       0.373       0.433\n",
       "AVGFACSAL            5.564e-06   1.17e-06      4.740      0.000    3.26e-06    7.87e-06\n",
       "COSTT4_A             4.054e-07   1.57e-07      2.579      0.010     9.7e-08    7.14e-07\n",
       "MEDIAN_HH_INC        9.665e-07    2.2e-07      4.385      0.000    5.34e-07     1.4e-06\n",
       "INEXPFTE            -5.737e-08   2.58e-07     -0.222      0.824   -5.64e-07     4.5e-07\n",
       "DEBT_MDN             3.867e-06   5.07e-07      7.627      0.000    2.87e-06    4.86e-06\n",
       "INC_PCT_LO              0.0508      0.029      1.770      0.077      -0.006       0.107\n",
       "CDR3                   -0.5145      0.071     -7.294      0.000      -0.653      -0.376\n",
       "CDR2                   -0.4257      0.073     -5.851      0.000      -0.568      -0.283\n",
       "FTFTPCTPELL            -0.0237      0.022     -1.064      0.288      -0.067       0.020\n",
       "UG25ABV                -0.1575      0.018     -8.981      0.000      -0.192      -0.123\n",
       "ADM_RATE               -0.0212      0.010     -2.080      0.038      -0.041      -0.001\n",
       "==============================================================================\n",
       "Omnibus:                       57.602   Durbin-Watson:                   1.861\n",
       "Prob(Omnibus):                  0.000   Jarque-Bera (JB):              191.740\n",
       "Skew:                          -0.013   Prob(JB):                     2.31e-42\n",
       "Kurtosis:                       4.959   Cond. No.                     4.34e+06\n",
       "==============================================================================\n",
       "\n",
       "Warnings:\n",
       "[1] Standard Errors assume that the covariance matrix of the errors is correctly specified.\n",
       "[2] The condition number is large, 4.34e+06. This might indicate that there are\n",
       "strong multicollinearity or other numerical problems.\n",
       "\"\"\""
      ]
     },
     "execution_count": 9,
     "metadata": {},
     "output_type": "execute_result"
    }
   ],
   "source": [
    "mlr_model2 = ols(formula='C150_4_POOLED~SAT_AVG+SAT_AVG+C150_4_NOLOANNOPELL+AVGFACSAL+COSTT4_A+MEDIAN_HH_INC+INEXPFTE+DEBT_MDN+INC_PCT_LO+CDR3+CDR2+FTFTPCTPELL+UG25ABV+ADM_RATE',data=df_model).fit()\n",
    "mlr_model2.summary()"
   ]
  },
  {
   "cell_type": "code",
   "execution_count": 10,
   "metadata": {
    "scrolled": true
   },
   "outputs": [
    {
     "data": {
      "text/html": [
       "<div>\n",
       "<style scoped>\n",
       "    .dataframe tbody tr th:only-of-type {\n",
       "        vertical-align: middle;\n",
       "    }\n",
       "\n",
       "    .dataframe tbody tr th {\n",
       "        vertical-align: top;\n",
       "    }\n",
       "\n",
       "    .dataframe thead th {\n",
       "        text-align: right;\n",
       "    }\n",
       "</style>\n",
       "<table border=\"1\" class=\"dataframe\">\n",
       "  <thead>\n",
       "    <tr style=\"text-align: right;\">\n",
       "      <th></th>\n",
       "      <th>cc</th>\n",
       "    </tr>\n",
       "    <tr>\n",
       "      <th>pairs</th>\n",
       "      <th></th>\n",
       "    </tr>\n",
       "  </thead>\n",
       "  <tbody>\n",
       "    <tr>\n",
       "      <td>(SAT_AVG, C150_4_POOLED)</td>\n",
       "      <td>0.825884</td>\n",
       "    </tr>\n",
       "    <tr>\n",
       "      <td>(C150_4_NOLOANNOPELL, C150_4_POOLED)</td>\n",
       "      <td>0.795283</td>\n",
       "    </tr>\n",
       "    <tr>\n",
       "      <td>(FTFTPCTPELL, SAT_AVG)</td>\n",
       "      <td>0.765375</td>\n",
       "    </tr>\n",
       "    <tr>\n",
       "      <td>(INC_PCT_LO, FTFTPCTPELL)</td>\n",
       "      <td>0.717751</td>\n",
       "    </tr>\n",
       "    <tr>\n",
       "      <td>(SAT_AVG, C150_4_NOLOANNOPELL)</td>\n",
       "      <td>0.702970</td>\n",
       "    </tr>\n",
       "  </tbody>\n",
       "</table>\n",
       "</div>"
      ],
      "text/plain": [
       "                                            cc\n",
       "pairs                                         \n",
       "(SAT_AVG, C150_4_POOLED)              0.825884\n",
       "(C150_4_NOLOANNOPELL, C150_4_POOLED)  0.795283\n",
       "(FTFTPCTPELL, SAT_AVG)                0.765375\n",
       "(INC_PCT_LO, FTFTPCTPELL)             0.717751\n",
       "(SAT_AVG, C150_4_NOLOANNOPELL)        0.702970"
      ]
     },
     "execution_count": 10,
     "metadata": {},
     "output_type": "execute_result"
    }
   ],
   "source": [
    "# checking which pairs in my model dataframe which are still highly correlated (>.70) \n",
    "col = df_model.corr().abs().stack().reset_index().sort_values(0, ascending=False)\n",
    "col['pairs'] = list(zip(col.level_0, col.level_1))\n",
    "col.set_index(['pairs'], inplace = True)\n",
    "col.drop(columns=['level_1', 'level_0'], inplace = True)\n",
    "col.columns = ['cc']\n",
    "col.drop_duplicates(inplace=True)\n",
    "col = col[(col.cc>.70) & (col.cc <1)]\n",
    "col"
   ]
  },
  {
   "cell_type": "code",
   "execution_count": 11,
   "metadata": {},
   "outputs": [],
   "source": [
    "# dropping some more features \n",
    "df_model = df_model.drop(columns=['FTFTPCTPELL'])"
   ]
  },
  {
   "cell_type": "code",
   "execution_count": 12,
   "metadata": {
    "scrolled": true
   },
   "outputs": [
    {
     "data": {
      "text/html": [
       "<table class=\"simpletable\">\n",
       "<caption>OLS Regression Results</caption>\n",
       "<tr>\n",
       "  <th>Dep. Variable:</th>      <td>C150_4_POOLED</td>  <th>  R-squared:         </th> <td>   0.897</td>\n",
       "</tr>\n",
       "<tr>\n",
       "  <th>Model:</th>                   <td>OLS</td>       <th>  Adj. R-squared:    </th> <td>   0.896</td>\n",
       "</tr>\n",
       "<tr>\n",
       "  <th>Method:</th>             <td>Least Squares</td>  <th>  F-statistic:       </th> <td>   860.0</td>\n",
       "</tr>\n",
       "<tr>\n",
       "  <th>Date:</th>             <td>Mon, 22 Jun 2020</td> <th>  Prob (F-statistic):</th>  <td>  0.00</td> \n",
       "</tr>\n",
       "<tr>\n",
       "  <th>Time:</th>                 <td>01:41:46</td>     <th>  Log-Likelihood:    </th> <td>  1778.6</td>\n",
       "</tr>\n",
       "<tr>\n",
       "  <th>No. Observations:</th>      <td>  1199</td>      <th>  AIC:               </th> <td>  -3531.</td>\n",
       "</tr>\n",
       "<tr>\n",
       "  <th>Df Residuals:</th>          <td>  1186</td>      <th>  BIC:               </th> <td>  -3465.</td>\n",
       "</tr>\n",
       "<tr>\n",
       "  <th>Df Model:</th>              <td>    12</td>      <th>                     </th>     <td> </td>   \n",
       "</tr>\n",
       "<tr>\n",
       "  <th>Covariance Type:</th>      <td>nonrobust</td>    <th>                     </th>     <td> </td>   \n",
       "</tr>\n",
       "</table>\n",
       "<table class=\"simpletable\">\n",
       "<tr>\n",
       "           <td></td>              <th>coef</th>     <th>std err</th>      <th>t</th>      <th>P>|t|</th>  <th>[0.025</th>    <th>0.975]</th>  \n",
       "</tr>\n",
       "<tr>\n",
       "  <th>Intercept</th>           <td>   -0.1692</td> <td>    0.038</td> <td>   -4.412</td> <td> 0.000</td> <td>   -0.244</td> <td>   -0.094</td>\n",
       "</tr>\n",
       "<tr>\n",
       "  <th>SAT_AVG</th>             <td>    0.0003</td> <td> 2.73e-05</td> <td>   12.114</td> <td> 0.000</td> <td>    0.000</td> <td>    0.000</td>\n",
       "</tr>\n",
       "<tr>\n",
       "  <th>C150_4_NOLOANNOPELL</th> <td>    0.4040</td> <td>    0.015</td> <td>   26.428</td> <td> 0.000</td> <td>    0.374</td> <td>    0.434</td>\n",
       "</tr>\n",
       "<tr>\n",
       "  <th>AVGFACSAL</th>           <td>  5.65e-06</td> <td> 1.17e-06</td> <td>    4.825</td> <td> 0.000</td> <td> 3.35e-06</td> <td> 7.95e-06</td>\n",
       "</tr>\n",
       "<tr>\n",
       "  <th>COSTT4_A</th>            <td> 3.939e-07</td> <td> 1.57e-07</td> <td>    2.511</td> <td> 0.012</td> <td> 8.62e-08</td> <td> 7.02e-07</td>\n",
       "</tr>\n",
       "<tr>\n",
       "  <th>MEDIAN_HH_INC</th>       <td> 9.954e-07</td> <td> 2.19e-07</td> <td>    4.551</td> <td> 0.000</td> <td> 5.66e-07</td> <td> 1.42e-06</td>\n",
       "</tr>\n",
       "<tr>\n",
       "  <th>INEXPFTE</th>            <td>-7.271e-08</td> <td> 2.58e-07</td> <td>   -0.282</td> <td> 0.778</td> <td>-5.79e-07</td> <td> 4.34e-07</td>\n",
       "</tr>\n",
       "<tr>\n",
       "  <th>DEBT_MDN</th>            <td> 3.802e-06</td> <td> 5.03e-07</td> <td>    7.554</td> <td> 0.000</td> <td> 2.81e-06</td> <td> 4.79e-06</td>\n",
       "</tr>\n",
       "<tr>\n",
       "  <th>INC_PCT_LO</th>          <td>    0.0337</td> <td>    0.024</td> <td>    1.418</td> <td> 0.157</td> <td>   -0.013</td> <td>    0.080</td>\n",
       "</tr>\n",
       "<tr>\n",
       "  <th>CDR3</th>                <td>   -0.5150</td> <td>    0.071</td> <td>   -7.301</td> <td> 0.000</td> <td>   -0.653</td> <td>   -0.377</td>\n",
       "</tr>\n",
       "<tr>\n",
       "  <th>CDR2</th>                <td>   -0.4258</td> <td>    0.073</td> <td>   -5.853</td> <td> 0.000</td> <td>   -0.569</td> <td>   -0.283</td>\n",
       "</tr>\n",
       "<tr>\n",
       "  <th>UG25ABV</th>             <td>   -0.1533</td> <td>    0.017</td> <td>   -8.972</td> <td> 0.000</td> <td>   -0.187</td> <td>   -0.120</td>\n",
       "</tr>\n",
       "<tr>\n",
       "  <th>ADM_RATE</th>            <td>   -0.0195</td> <td>    0.010</td> <td>   -1.941</td> <td> 0.053</td> <td>   -0.039</td> <td>    0.000</td>\n",
       "</tr>\n",
       "</table>\n",
       "<table class=\"simpletable\">\n",
       "<tr>\n",
       "  <th>Omnibus:</th>       <td>56.173</td> <th>  Durbin-Watson:     </th> <td>   1.864</td>\n",
       "</tr>\n",
       "<tr>\n",
       "  <th>Prob(Omnibus):</th> <td> 0.000</td> <th>  Jarque-Bera (JB):  </th> <td> 183.258</td>\n",
       "</tr>\n",
       "<tr>\n",
       "  <th>Skew:</th>          <td>-0.016</td> <th>  Prob(JB):          </th> <td>1.61e-40</td>\n",
       "</tr>\n",
       "<tr>\n",
       "  <th>Kurtosis:</th>      <td> 4.915</td> <th>  Cond. No.          </th> <td>4.34e+06</td>\n",
       "</tr>\n",
       "</table><br/><br/>Warnings:<br/>[1] Standard Errors assume that the covariance matrix of the errors is correctly specified.<br/>[2] The condition number is large, 4.34e+06. This might indicate that there are<br/>strong multicollinearity or other numerical problems."
      ],
      "text/plain": [
       "<class 'statsmodels.iolib.summary.Summary'>\n",
       "\"\"\"\n",
       "                            OLS Regression Results                            \n",
       "==============================================================================\n",
       "Dep. Variable:          C150_4_POOLED   R-squared:                       0.897\n",
       "Model:                            OLS   Adj. R-squared:                  0.896\n",
       "Method:                 Least Squares   F-statistic:                     860.0\n",
       "Date:                Mon, 22 Jun 2020   Prob (F-statistic):               0.00\n",
       "Time:                        01:41:46   Log-Likelihood:                 1778.6\n",
       "No. Observations:                1199   AIC:                            -3531.\n",
       "Df Residuals:                    1186   BIC:                            -3465.\n",
       "Df Model:                          12                                         \n",
       "Covariance Type:            nonrobust                                         \n",
       "=======================================================================================\n",
       "                          coef    std err          t      P>|t|      [0.025      0.975]\n",
       "---------------------------------------------------------------------------------------\n",
       "Intercept              -0.1692      0.038     -4.412      0.000      -0.244      -0.094\n",
       "SAT_AVG                 0.0003   2.73e-05     12.114      0.000       0.000       0.000\n",
       "C150_4_NOLOANNOPELL     0.4040      0.015     26.428      0.000       0.374       0.434\n",
       "AVGFACSAL             5.65e-06   1.17e-06      4.825      0.000    3.35e-06    7.95e-06\n",
       "COSTT4_A             3.939e-07   1.57e-07      2.511      0.012    8.62e-08    7.02e-07\n",
       "MEDIAN_HH_INC        9.954e-07   2.19e-07      4.551      0.000    5.66e-07    1.42e-06\n",
       "INEXPFTE            -7.271e-08   2.58e-07     -0.282      0.778   -5.79e-07    4.34e-07\n",
       "DEBT_MDN             3.802e-06   5.03e-07      7.554      0.000    2.81e-06    4.79e-06\n",
       "INC_PCT_LO              0.0337      0.024      1.418      0.157      -0.013       0.080\n",
       "CDR3                   -0.5150      0.071     -7.301      0.000      -0.653      -0.377\n",
       "CDR2                   -0.4258      0.073     -5.853      0.000      -0.569      -0.283\n",
       "UG25ABV                -0.1533      0.017     -8.972      0.000      -0.187      -0.120\n",
       "ADM_RATE               -0.0195      0.010     -1.941      0.053      -0.039       0.000\n",
       "==============================================================================\n",
       "Omnibus:                       56.173   Durbin-Watson:                   1.864\n",
       "Prob(Omnibus):                  0.000   Jarque-Bera (JB):              183.258\n",
       "Skew:                          -0.016   Prob(JB):                     1.61e-40\n",
       "Kurtosis:                       4.915   Cond. No.                     4.34e+06\n",
       "==============================================================================\n",
       "\n",
       "Warnings:\n",
       "[1] Standard Errors assume that the covariance matrix of the errors is correctly specified.\n",
       "[2] The condition number is large, 4.34e+06. This might indicate that there are\n",
       "strong multicollinearity or other numerical problems.\n",
       "\"\"\""
      ]
     },
     "execution_count": 12,
     "metadata": {},
     "output_type": "execute_result"
    }
   ],
   "source": [
    "mlr_model3 = ols(formula='C150_4_POOLED~SAT_AVG+SAT_AVG+C150_4_NOLOANNOPELL+AVGFACSAL+COSTT4_A+MEDIAN_HH_INC+INEXPFTE+DEBT_MDN+INC_PCT_LO+CDR3+CDR2+UG25ABV+ADM_RATE',data=df_model).fit()\n",
    "mlr_model3.summary()"
   ]
  },
  {
   "cell_type": "code",
   "execution_count": 13,
   "metadata": {},
   "outputs": [
    {
     "data": {
      "text/html": [
       "<div>\n",
       "<style scoped>\n",
       "    .dataframe tbody tr th:only-of-type {\n",
       "        vertical-align: middle;\n",
       "    }\n",
       "\n",
       "    .dataframe tbody tr th {\n",
       "        vertical-align: top;\n",
       "    }\n",
       "\n",
       "    .dataframe thead th {\n",
       "        text-align: right;\n",
       "    }\n",
       "</style>\n",
       "<table border=\"1\" class=\"dataframe\">\n",
       "  <thead>\n",
       "    <tr style=\"text-align: right;\">\n",
       "      <th></th>\n",
       "      <th>cc</th>\n",
       "    </tr>\n",
       "    <tr>\n",
       "      <th>pairs</th>\n",
       "      <th></th>\n",
       "    </tr>\n",
       "  </thead>\n",
       "  <tbody>\n",
       "    <tr>\n",
       "      <td>(SAT_AVG, C150_4_POOLED)</td>\n",
       "      <td>0.825884</td>\n",
       "    </tr>\n",
       "    <tr>\n",
       "      <td>(C150_4_NOLOANNOPELL, C150_4_POOLED)</td>\n",
       "      <td>0.795283</td>\n",
       "    </tr>\n",
       "    <tr>\n",
       "      <td>(SAT_AVG, C150_4_NOLOANNOPELL)</td>\n",
       "      <td>0.702970</td>\n",
       "    </tr>\n",
       "  </tbody>\n",
       "</table>\n",
       "</div>"
      ],
      "text/plain": [
       "                                            cc\n",
       "pairs                                         \n",
       "(SAT_AVG, C150_4_POOLED)              0.825884\n",
       "(C150_4_NOLOANNOPELL, C150_4_POOLED)  0.795283\n",
       "(SAT_AVG, C150_4_NOLOANNOPELL)        0.702970"
      ]
     },
     "execution_count": 13,
     "metadata": {},
     "output_type": "execute_result"
    }
   ],
   "source": [
    "# checking which pairs in my model dataframe which are still highly correlated (>.70) \n",
    "col = df_model.corr().abs().stack().reset_index().sort_values(0, ascending=False)\n",
    "col['pairs'] = list(zip(col.level_0, col.level_1))\n",
    "col.set_index(['pairs'], inplace = True)\n",
    "col.drop(columns=['level_1', 'level_0'], inplace = True)\n",
    "col.columns = ['cc']\n",
    "col.drop_duplicates(inplace=True)\n",
    "col = col[(col.cc>.70) & (col.cc <1)]\n",
    "col"
   ]
  },
  {
   "cell_type": "code",
   "execution_count": 14,
   "metadata": {},
   "outputs": [],
   "source": [
    "# dropping more features \n",
    "df_model = df_model.drop(columns=['CDR2','INEXPFTE'])"
   ]
  },
  {
   "cell_type": "code",
   "execution_count": 20,
   "metadata": {},
   "outputs": [],
   "source": [
    "df_model = df_model.drop(columns=['C150_4_NOLOANNOPELL'])"
   ]
  },
  {
   "cell_type": "code",
   "execution_count": 15,
   "metadata": {},
   "outputs": [
    {
     "data": {
      "text/html": [
       "<table class=\"simpletable\">\n",
       "<caption>OLS Regression Results</caption>\n",
       "<tr>\n",
       "  <th>Dep. Variable:</th>      <td>C150_4_POOLED</td>  <th>  R-squared:         </th> <td>   0.828</td>\n",
       "</tr>\n",
       "<tr>\n",
       "  <th>Model:</th>                   <td>OLS</td>       <th>  Adj. R-squared:    </th> <td>   0.827</td>\n",
       "</tr>\n",
       "<tr>\n",
       "  <th>Method:</th>             <td>Least Squares</td>  <th>  F-statistic:       </th> <td>   640.7</td>\n",
       "</tr>\n",
       "<tr>\n",
       "  <th>Date:</th>             <td>Mon, 22 Jun 2020</td> <th>  Prob (F-statistic):</th>  <td>  0.00</td> \n",
       "</tr>\n",
       "<tr>\n",
       "  <th>Time:</th>                 <td>01:41:46</td>     <th>  Log-Likelihood:    </th> <td>  1479.0</td>\n",
       "</tr>\n",
       "<tr>\n",
       "  <th>No. Observations:</th>      <td>  1204</td>      <th>  AIC:               </th> <td>  -2938.</td>\n",
       "</tr>\n",
       "<tr>\n",
       "  <th>Df Residuals:</th>          <td>  1194</td>      <th>  BIC:               </th> <td>  -2887.</td>\n",
       "</tr>\n",
       "<tr>\n",
       "  <th>Df Model:</th>              <td>     9</td>      <th>                     </th>     <td> </td>   \n",
       "</tr>\n",
       "<tr>\n",
       "  <th>Covariance Type:</th>      <td>nonrobust</td>    <th>                     </th>     <td> </td>   \n",
       "</tr>\n",
       "</table>\n",
       "<table class=\"simpletable\">\n",
       "<tr>\n",
       "        <td></td>           <th>coef</th>     <th>std err</th>      <th>t</th>      <th>P>|t|</th>  <th>[0.025</th>    <th>0.975]</th>  \n",
       "</tr>\n",
       "<tr>\n",
       "  <th>Intercept</th>     <td>   -0.1958</td> <td>    0.048</td> <td>   -4.050</td> <td> 0.000</td> <td>   -0.291</td> <td>   -0.101</td>\n",
       "</tr>\n",
       "<tr>\n",
       "  <th>SAT_AVG</th>       <td>    0.0005</td> <td>  3.3e-05</td> <td>   16.654</td> <td> 0.000</td> <td>    0.000</td> <td>    0.001</td>\n",
       "</tr>\n",
       "<tr>\n",
       "  <th>AVGFACSAL</th>     <td> 8.625e-06</td> <td> 1.39e-06</td> <td>    6.219</td> <td> 0.000</td> <td>  5.9e-06</td> <td> 1.13e-05</td>\n",
       "</tr>\n",
       "<tr>\n",
       "  <th>COSTT4_A</th>      <td> 5.805e-07</td> <td> 1.92e-07</td> <td>    3.027</td> <td> 0.003</td> <td> 2.04e-07</td> <td> 9.57e-07</td>\n",
       "</tr>\n",
       "<tr>\n",
       "  <th>MEDIAN_HH_INC</th> <td> 1.299e-06</td> <td> 2.79e-07</td> <td>    4.650</td> <td> 0.000</td> <td> 7.51e-07</td> <td> 1.85e-06</td>\n",
       "</tr>\n",
       "<tr>\n",
       "  <th>DEBT_MDN</th>      <td> 5.977e-06</td> <td> 6.32e-07</td> <td>    9.450</td> <td> 0.000</td> <td> 4.74e-06</td> <td> 7.22e-06</td>\n",
       "</tr>\n",
       "<tr>\n",
       "  <th>INC_PCT_LO</th>    <td>   -0.0895</td> <td>    0.030</td> <td>   -3.003</td> <td> 0.003</td> <td>   -0.148</td> <td>   -0.031</td>\n",
       "</tr>\n",
       "<tr>\n",
       "  <th>CDR3</th>          <td>   -0.9322</td> <td>    0.078</td> <td>  -11.917</td> <td> 0.000</td> <td>   -1.086</td> <td>   -0.779</td>\n",
       "</tr>\n",
       "<tr>\n",
       "  <th>UG25ABV</th>       <td>   -0.1479</td> <td>    0.022</td> <td>   -6.799</td> <td> 0.000</td> <td>   -0.191</td> <td>   -0.105</td>\n",
       "</tr>\n",
       "<tr>\n",
       "  <th>ADM_RATE</th>      <td>   -0.0438</td> <td>    0.013</td> <td>   -3.441</td> <td> 0.001</td> <td>   -0.069</td> <td>   -0.019</td>\n",
       "</tr>\n",
       "</table>\n",
       "<table class=\"simpletable\">\n",
       "<tr>\n",
       "  <th>Omnibus:</th>       <td>57.424</td> <th>  Durbin-Watson:     </th> <td>   1.796</td>\n",
       "</tr>\n",
       "<tr>\n",
       "  <th>Prob(Omnibus):</th> <td> 0.000</td> <th>  Jarque-Bera (JB):  </th> <td> 126.660</td>\n",
       "</tr>\n",
       "<tr>\n",
       "  <th>Skew:</th>          <td>-0.283</td> <th>  Prob(JB):          </th> <td>3.13e-28</td>\n",
       "</tr>\n",
       "<tr>\n",
       "  <th>Kurtosis:</th>      <td> 4.485</td> <th>  Cond. No.          </th> <td>3.11e+06</td>\n",
       "</tr>\n",
       "</table><br/><br/>Warnings:<br/>[1] Standard Errors assume that the covariance matrix of the errors is correctly specified.<br/>[2] The condition number is large, 3.11e+06. This might indicate that there are<br/>strong multicollinearity or other numerical problems."
      ],
      "text/plain": [
       "<class 'statsmodels.iolib.summary.Summary'>\n",
       "\"\"\"\n",
       "                            OLS Regression Results                            \n",
       "==============================================================================\n",
       "Dep. Variable:          C150_4_POOLED   R-squared:                       0.828\n",
       "Model:                            OLS   Adj. R-squared:                  0.827\n",
       "Method:                 Least Squares   F-statistic:                     640.7\n",
       "Date:                Mon, 22 Jun 2020   Prob (F-statistic):               0.00\n",
       "Time:                        01:41:46   Log-Likelihood:                 1479.0\n",
       "No. Observations:                1204   AIC:                            -2938.\n",
       "Df Residuals:                    1194   BIC:                            -2887.\n",
       "Df Model:                           9                                         \n",
       "Covariance Type:            nonrobust                                         \n",
       "=================================================================================\n",
       "                    coef    std err          t      P>|t|      [0.025      0.975]\n",
       "---------------------------------------------------------------------------------\n",
       "Intercept        -0.1958      0.048     -4.050      0.000      -0.291      -0.101\n",
       "SAT_AVG           0.0005    3.3e-05     16.654      0.000       0.000       0.001\n",
       "AVGFACSAL      8.625e-06   1.39e-06      6.219      0.000     5.9e-06    1.13e-05\n",
       "COSTT4_A       5.805e-07   1.92e-07      3.027      0.003    2.04e-07    9.57e-07\n",
       "MEDIAN_HH_INC  1.299e-06   2.79e-07      4.650      0.000    7.51e-07    1.85e-06\n",
       "DEBT_MDN       5.977e-06   6.32e-07      9.450      0.000    4.74e-06    7.22e-06\n",
       "INC_PCT_LO       -0.0895      0.030     -3.003      0.003      -0.148      -0.031\n",
       "CDR3             -0.9322      0.078    -11.917      0.000      -1.086      -0.779\n",
       "UG25ABV          -0.1479      0.022     -6.799      0.000      -0.191      -0.105\n",
       "ADM_RATE         -0.0438      0.013     -3.441      0.001      -0.069      -0.019\n",
       "==============================================================================\n",
       "Omnibus:                       57.424   Durbin-Watson:                   1.796\n",
       "Prob(Omnibus):                  0.000   Jarque-Bera (JB):              126.660\n",
       "Skew:                          -0.283   Prob(JB):                     3.13e-28\n",
       "Kurtosis:                       4.485   Cond. No.                     3.11e+06\n",
       "==============================================================================\n",
       "\n",
       "Warnings:\n",
       "[1] Standard Errors assume that the covariance matrix of the errors is correctly specified.\n",
       "[2] The condition number is large, 3.11e+06. This might indicate that there are\n",
       "strong multicollinearity or other numerical problems.\n",
       "\"\"\""
      ]
     },
     "execution_count": 15,
     "metadata": {},
     "output_type": "execute_result"
    }
   ],
   "source": [
    "mlr_model4 = ols(formula='C150_4_POOLED~SAT_AVG+AVGFACSAL+COSTT4_A+MEDIAN_HH_INC+DEBT_MDN+INC_PCT_LO+CDR3+UG25ABV+ADM_RATE',data=df_model).fit()\n",
    "mlr_model4.summary()"
   ]
  },
  {
   "cell_type": "code",
   "execution_count": 21,
   "metadata": {
    "scrolled": true
   },
   "outputs": [],
   "source": [
    "df_model.dropna(inplace=True)"
   ]
  },
  {
   "cell_type": "markdown",
   "metadata": {},
   "source": [
    "##### scaling my data "
   ]
  },
  {
   "cell_type": "code",
   "execution_count": 23,
   "metadata": {},
   "outputs": [
    {
     "data": {
      "text/plain": [
       "Index(['C150_4_POOLED', 'SAT_AVG', 'COSTT4_A', 'AVGFACSAL', 'MEDIAN_HH_INC',\n",
       "       'DEBT_MDN', 'INC_PCT_LO', 'CDR3', 'UG25ABV', 'INC_PCT_M1', 'ADM_RATE'],\n",
       "      dtype='object')"
      ]
     },
     "execution_count": 23,
     "metadata": {},
     "output_type": "execute_result"
    }
   ],
   "source": [
    "df_model.columns"
   ]
  },
  {
   "cell_type": "code",
   "execution_count": 24,
   "metadata": {},
   "outputs": [],
   "source": [
    "subset = ['SAT_AVG', 'COSTT4_A',\n",
    "       'AVGFACSAL', 'MEDIAN_HH_INC', 'DEBT_MDN', 'INC_PCT_LO', 'CDR3',\n",
    "       'UG25ABV', 'INC_PCT_M1', 'ADM_RATE']"
   ]
  },
  {
   "cell_type": "code",
   "execution_count": 26,
   "metadata": {},
   "outputs": [],
   "source": [
    "from sklearn.preprocessing import StandardScaler\n",
    "scaler = StandardScaler()\n",
    "\n",
    "subset_scaled = []\n",
    "for var in subset:\n",
    "    new_col = var +\"_scaled\"\n",
    "    df_model[new_col] = scaler.fit_transform(df_model[[var]])\n",
    "    subset_scaled.append(new_col)"
   ]
  },
  {
   "cell_type": "code",
   "execution_count": 28,
   "metadata": {
    "scrolled": true
   },
   "outputs": [
    {
     "data": {
      "text/plain": [
       "Index(['C150_4_POOLED', 'SAT_AVG', 'COSTT4_A', 'AVGFACSAL', 'MEDIAN_HH_INC',\n",
       "       'DEBT_MDN', 'INC_PCT_LO', 'CDR3', 'UG25ABV', 'INC_PCT_M1', 'ADM_RATE',\n",
       "       'SAT_AVG_scaled', 'COSTT4_A_scaled', 'AVGFACSAL_scaled',\n",
       "       'MEDIAN_HH_INC_scaled', 'DEBT_MDN_scaled', 'INC_PCT_LO_scaled',\n",
       "       'CDR3_scaled', 'UG25ABV_scaled', 'INC_PCT_M1_scaled',\n",
       "       'ADM_RATE_scaled'],\n",
       "      dtype='object')"
      ]
     },
     "execution_count": 28,
     "metadata": {},
     "output_type": "execute_result"
    }
   ],
   "source": [
    "df_model.columns"
   ]
  },
  {
   "cell_type": "code",
   "execution_count": 29,
   "metadata": {},
   "outputs": [
    {
     "data": {
      "text/html": [
       "<table class=\"simpletable\">\n",
       "<caption>OLS Regression Results</caption>\n",
       "<tr>\n",
       "  <th>Dep. Variable:</th>      <td>C150_4_POOLED</td>  <th>  R-squared:         </th> <td>   0.833</td>\n",
       "</tr>\n",
       "<tr>\n",
       "  <th>Model:</th>                   <td>OLS</td>       <th>  Adj. R-squared:    </th> <td>   0.832</td>\n",
       "</tr>\n",
       "<tr>\n",
       "  <th>Method:</th>             <td>Least Squares</td>  <th>  F-statistic:       </th> <td>   659.3</td>\n",
       "</tr>\n",
       "<tr>\n",
       "  <th>Date:</th>             <td>Mon, 22 Jun 2020</td> <th>  Prob (F-statistic):</th>  <td>  0.00</td> \n",
       "</tr>\n",
       "<tr>\n",
       "  <th>Time:</th>                 <td>01:46:40</td>     <th>  Log-Likelihood:    </th> <td>  1492.8</td>\n",
       "</tr>\n",
       "<tr>\n",
       "  <th>No. Observations:</th>      <td>  1198</td>      <th>  AIC:               </th> <td>  -2966.</td>\n",
       "</tr>\n",
       "<tr>\n",
       "  <th>Df Residuals:</th>          <td>  1188</td>      <th>  BIC:               </th> <td>  -2915.</td>\n",
       "</tr>\n",
       "<tr>\n",
       "  <th>Df Model:</th>              <td>     9</td>      <th>                     </th>     <td> </td>   \n",
       "</tr>\n",
       "<tr>\n",
       "  <th>Covariance Type:</th>      <td>nonrobust</td>    <th>                     </th>     <td> </td>   \n",
       "</tr>\n",
       "</table>\n",
       "<table class=\"simpletable\">\n",
       "<tr>\n",
       "            <td></td>              <th>coef</th>     <th>std err</th>      <th>t</th>      <th>P>|t|</th>  <th>[0.025</th>    <th>0.975]</th>  \n",
       "</tr>\n",
       "<tr>\n",
       "  <th>Intercept</th>            <td>    0.5738</td> <td>    0.002</td> <td>  284.158</td> <td> 0.000</td> <td>    0.570</td> <td>    0.578</td>\n",
       "</tr>\n",
       "<tr>\n",
       "  <th>SAT_AVG_scaled</th>       <td>    0.0686</td> <td>    0.004</td> <td>   17.097</td> <td> 0.000</td> <td>    0.061</td> <td>    0.077</td>\n",
       "</tr>\n",
       "<tr>\n",
       "  <th>AVGFACSAL_scaled</th>     <td>    0.0193</td> <td>    0.003</td> <td>    5.583</td> <td> 0.000</td> <td>    0.013</td> <td>    0.026</td>\n",
       "</tr>\n",
       "<tr>\n",
       "  <th>COSTT4_A_scaled</th>      <td>    0.0096</td> <td>    0.003</td> <td>    3.251</td> <td> 0.001</td> <td>    0.004</td> <td>    0.015</td>\n",
       "</tr>\n",
       "<tr>\n",
       "  <th>MEDIAN_HH_INC_scaled</th> <td>    0.0151</td> <td>    0.003</td> <td>    5.066</td> <td> 0.000</td> <td>    0.009</td> <td>    0.021</td>\n",
       "</tr>\n",
       "<tr>\n",
       "  <th>DEBT_MDN_scaled</th>      <td>    0.0234</td> <td>    0.003</td> <td>    9.355</td> <td> 0.000</td> <td>    0.019</td> <td>    0.028</td>\n",
       "</tr>\n",
       "<tr>\n",
       "  <th>INC_PCT_LO_scaled</th>    <td>   -0.0081</td> <td>    0.004</td> <td>   -2.239</td> <td> 0.025</td> <td>   -0.015</td> <td>   -0.001</td>\n",
       "</tr>\n",
       "<tr>\n",
       "  <th>CDR3_scaled</th>          <td>   -0.0402</td> <td>    0.003</td> <td>  -12.558</td> <td> 0.000</td> <td>   -0.047</td> <td>   -0.034</td>\n",
       "</tr>\n",
       "<tr>\n",
       "  <th>UG25ABV_scaled</th>       <td>   -0.0193</td> <td>    0.003</td> <td>   -7.363</td> <td> 0.000</td> <td>   -0.024</td> <td>   -0.014</td>\n",
       "</tr>\n",
       "<tr>\n",
       "  <th>ADM_RATE_scaled</th>      <td>   -0.0077</td> <td>    0.003</td> <td>   -3.049</td> <td> 0.002</td> <td>   -0.013</td> <td>   -0.003</td>\n",
       "</tr>\n",
       "</table>\n",
       "<table class=\"simpletable\">\n",
       "<tr>\n",
       "  <th>Omnibus:</th>       <td>20.694</td> <th>  Durbin-Watson:     </th> <td>   1.800</td>\n",
       "</tr>\n",
       "<tr>\n",
       "  <th>Prob(Omnibus):</th> <td> 0.000</td> <th>  Jarque-Bera (JB):  </th> <td>  32.819</td>\n",
       "</tr>\n",
       "<tr>\n",
       "  <th>Skew:</th>          <td>-0.137</td> <th>  Prob(JB):          </th> <td>7.47e-08</td>\n",
       "</tr>\n",
       "<tr>\n",
       "  <th>Kurtosis:</th>      <td> 3.763</td> <th>  Cond. No.          </th> <td>    5.40</td>\n",
       "</tr>\n",
       "</table><br/><br/>Warnings:<br/>[1] Standard Errors assume that the covariance matrix of the errors is correctly specified."
      ],
      "text/plain": [
       "<class 'statsmodels.iolib.summary.Summary'>\n",
       "\"\"\"\n",
       "                            OLS Regression Results                            \n",
       "==============================================================================\n",
       "Dep. Variable:          C150_4_POOLED   R-squared:                       0.833\n",
       "Model:                            OLS   Adj. R-squared:                  0.832\n",
       "Method:                 Least Squares   F-statistic:                     659.3\n",
       "Date:                Mon, 22 Jun 2020   Prob (F-statistic):               0.00\n",
       "Time:                        01:46:40   Log-Likelihood:                 1492.8\n",
       "No. Observations:                1198   AIC:                            -2966.\n",
       "Df Residuals:                    1188   BIC:                            -2915.\n",
       "Df Model:                           9                                         \n",
       "Covariance Type:            nonrobust                                         \n",
       "========================================================================================\n",
       "                           coef    std err          t      P>|t|      [0.025      0.975]\n",
       "----------------------------------------------------------------------------------------\n",
       "Intercept                0.5738      0.002    284.158      0.000       0.570       0.578\n",
       "SAT_AVG_scaled           0.0686      0.004     17.097      0.000       0.061       0.077\n",
       "AVGFACSAL_scaled         0.0193      0.003      5.583      0.000       0.013       0.026\n",
       "COSTT4_A_scaled          0.0096      0.003      3.251      0.001       0.004       0.015\n",
       "MEDIAN_HH_INC_scaled     0.0151      0.003      5.066      0.000       0.009       0.021\n",
       "DEBT_MDN_scaled          0.0234      0.003      9.355      0.000       0.019       0.028\n",
       "INC_PCT_LO_scaled       -0.0081      0.004     -2.239      0.025      -0.015      -0.001\n",
       "CDR3_scaled             -0.0402      0.003    -12.558      0.000      -0.047      -0.034\n",
       "UG25ABV_scaled          -0.0193      0.003     -7.363      0.000      -0.024      -0.014\n",
       "ADM_RATE_scaled         -0.0077      0.003     -3.049      0.002      -0.013      -0.003\n",
       "==============================================================================\n",
       "Omnibus:                       20.694   Durbin-Watson:                   1.800\n",
       "Prob(Omnibus):                  0.000   Jarque-Bera (JB):               32.819\n",
       "Skew:                          -0.137   Prob(JB):                     7.47e-08\n",
       "Kurtosis:                       3.763   Cond. No.                         5.40\n",
       "==============================================================================\n",
       "\n",
       "Warnings:\n",
       "[1] Standard Errors assume that the covariance matrix of the errors is correctly specified.\n",
       "\"\"\""
      ]
     },
     "execution_count": 29,
     "metadata": {},
     "output_type": "execute_result"
    }
   ],
   "source": [
    "mlr_model_scaled = ols(formula='C150_4_POOLED~SAT_AVG_scaled+AVGFACSAL_scaled+COSTT4_A_scaled+MEDIAN_HH_INC_scaled+DEBT_MDN_scaled+INC_PCT_LO_scaled+CDR3_scaled+UG25ABV_scaled+ADM_RATE_scaled',data=df_model).fit()\n",
    "mlr_model_scaled.summary()"
   ]
  },
  {
   "cell_type": "code",
   "execution_count": 30,
   "metadata": {},
   "outputs": [],
   "source": [
    "df_model_scaled = df_model[['C150_4_POOLED','SAT_AVG_scaled', 'COSTT4_A_scaled', 'AVGFACSAL_scaled',\n",
    "       'MEDIAN_HH_INC_scaled', 'DEBT_MDN_scaled', 'INC_PCT_LO_scaled',\n",
    "       'CDR3_scaled', 'UG25ABV_scaled', 'INC_PCT_M1_scaled',\n",
    "       'ADM_RATE_scaled']]"
   ]
  },
  {
   "cell_type": "markdown",
   "metadata": {},
   "source": [
    "##### test train split "
   ]
  },
  {
   "cell_type": "code",
   "execution_count": 31,
   "metadata": {},
   "outputs": [],
   "source": [
    "target = df_model_scaled['C150_4_POOLED']\n",
    "df_features = df_model_scaled.drop(columns=['C150_4_POOLED'])"
   ]
  },
  {
   "cell_type": "code",
   "execution_count": 32,
   "metadata": {},
   "outputs": [
    {
     "name": "stdout",
     "output_type": "stream",
     "text": [
      "Training Root Mean Squared Error: 0.06953621610502289\n",
      "Testing Root Mean Squared Error: 0.06984190438916797\n",
      "R^2 for training data: 0.8368844198251606\n",
      "R^2 for testing data: 0.8233049256271828\n",
      "Testing Error: 0.40540907004102505\n",
      "-0.00030568828414508087\n"
     ]
    }
   ],
   "source": [
    "def test_train(df):\n",
    "    X_train, X_test, y_train, y_test = train_test_split(df_features, target, random_state=34,test_size=0.3)\n",
    "    lm = LinearRegression()\n",
    "    #fit the linear regression to the data\n",
    "    lm = lm.fit(X_train, y_train)\n",
    "    y_train_pred = lm.predict(X_train)\n",
    "    train_rmse = np.sqrt(metrics.mean_squared_error(y_train, y_train_pred))\n",
    "    print('Training Root Mean Squared Error:' , train_rmse)\n",
    "    # use fitted model to predict on test data\n",
    "    y_pred = lm.predict(X_test)\n",
    "    test_rmse = np.sqrt(metrics.mean_squared_error(y_test, y_pred))\n",
    "    print('Testing Root Mean Squared Error:' , test_rmse)\n",
    "    print('R^2 for training data:', lm.score(X_train, y_train))\n",
    "    print('R^2 for testing data:', lm.score(X_test, y_test))\n",
    "    print('Testing Error:', test_rmse/y_train.std())\n",
    "    print(train_rmse-test_rmse)\n",
    "test_train(df_model)"
   ]
  },
  {
   "cell_type": "markdown",
   "metadata": {},
   "source": [
    "### 2. Two Degree Polynomial"
   ]
  },
  {
   "cell_type": "code",
   "execution_count": 38,
   "metadata": {
    "scrolled": true
   },
   "outputs": [
    {
     "name": "stdout",
     "output_type": "stream",
     "text": [
      "R^2: 0.863796084853034\n",
      "Training Root Mean Squared Error: 0.06239137858179534\n",
      "Testing Root Mean Squared Error: 0.06925011544339263\n",
      "-0.006858736861597291\n"
     ]
    }
   ],
   "source": [
    "def two_degree_polynomial(df_features,target):\n",
    "    from sklearn.preprocessing import PolynomialFeatures\n",
    "    poly = PolynomialFeatures(degree=2, include_bias = False)\n",
    "    poly_data = poly.fit_transform(df_features)\n",
    "    poly_columns = poly.get_feature_names(df_features.columns)\n",
    "    df_poly = pd.DataFrame(poly_data, columns = poly_columns)\n",
    "    lm_2 = LinearRegression()\n",
    "    lm_2 = lm_2.fit(df_poly, target)\n",
    "    from sklearn.model_selection import train_test_split\n",
    "    X_train, X_test, y_train, y_test = train_test_split(df_poly, target, random_state = 34, test_size=0.2)\n",
    "    lm = LinearRegression()\n",
    "    lm = lm.fit(X_train, y_train)\n",
    "    y_train_pred = lm.predict(X_train)\n",
    "    mse = metrics.mean_squared_error(y_train, y_train_pred)\n",
    "    rmse = np.sqrt(mse)\n",
    "    y_test_pred = lm.predict(X_test)\n",
    "    mse2 = metrics.mean_squared_error(y_test, y_test_pred)\n",
    "    rmse2 = np.sqrt(mse2)\n",
    "    print('R^2:', lm_2.score(df_poly, target))\n",
    "    print('Training Root Mean Squared Error:' , rmse)\n",
    "    print('Testing Root Mean Squared Error:' , rmse2)\n",
    "    print(rmse-rmse2)\n",
    "two_degree_polynomial(df_features,target)"
   ]
  },
  {
   "cell_type": "markdown",
   "metadata": {},
   "source": [
    "#### no bueno."
   ]
  },
  {
   "cell_type": "markdown",
   "metadata": {},
   "source": [
    "### 3. 3rd Degree Polynomial"
   ]
  },
  {
   "cell_type": "code",
   "execution_count": 39,
   "metadata": {},
   "outputs": [
    {
     "name": "stdout",
     "output_type": "stream",
     "text": [
      "R^2: 0.902162839835762\n",
      "Training Root Mean Squared Error: 0.051142739558015425\n",
      "Testing Root Mean Squared Error: 0.08661865609653992\n",
      "-0.03547591653852449\n"
     ]
    }
   ],
   "source": [
    "def third_degree_polynomial(df_features, target):\n",
    "    from sklearn.preprocessing import PolynomialFeatures\n",
    "    from sklearn.model_selection import train_test_split\n",
    "    poly_3 = PolynomialFeatures(degree=3, include_bias = False)\n",
    "    poly3_data = poly_3.fit_transform(df_features)\n",
    "    poly3_columns = poly_3.get_feature_names(df_features.columns)\n",
    "    df_poly3 = pd.DataFrame(poly3_data, columns = poly3_columns)\n",
    "    lm_3 = LinearRegression()\n",
    "    lm_3 = lm_3.fit(df_poly3, target)\n",
    "    X_train, X_test, y_train, y_test = train_test_split(df_poly3, target, random_state = 34, test_size=0.2)\n",
    "    lm3 = LinearRegression()\n",
    "    lm3 = lm3.fit(X_train, y_train)\n",
    "    y_train_pred = lm3.predict(X_train)\n",
    "    mse = metrics.mean_squared_error(y_train, y_train_pred)\n",
    "    rmse = np.sqrt(mse)\n",
    "    y_test_pred = lm3.predict(X_test)\n",
    "    mse2 = metrics.mean_squared_error(y_test, y_test_pred)\n",
    "    rmse2 = np.sqrt(mse2)\n",
    "    print('R^2:', lm_3.score(df_poly3, target))\n",
    "    print('Training Root Mean Squared Error:' , rmse)\n",
    "    print('Testing Root Mean Squared Error:' , rmse2)\n",
    "    print(rmse-rmse2)\n",
    "third_degree_polynomial(df_features, target)"
   ]
  },
  {
   "cell_type": "markdown",
   "metadata": {},
   "source": [
    "#### no bueno."
   ]
  },
  {
   "cell_type": "markdown",
   "metadata": {},
   "source": [
    "### 4. Lasso"
   ]
  },
  {
   "cell_type": "code",
   "execution_count": 35,
   "metadata": {
    "scrolled": true
   },
   "outputs": [
    {
     "name": "stdout",
     "output_type": "stream",
     "text": [
      "Training RMSE: 0.1721723200768651\n",
      "Testing RMSE: 0.1662042634104632\n",
      "0.0059680566664018775\n"
     ]
    }
   ],
   "source": [
    "## training the model\n",
    "from sklearn.linear_model import Lasso\n",
    "X_train, X_test, y_train, y_test = train_test_split(df_features, target, random_state=34,test_size=0.3)\n",
    "lasso = Lasso(alpha=0.01, normalize=True)\n",
    "\n",
    "lasso.fit(X_train,y_train)\n",
    "\n",
    "y_train_pred = lasso.predict(X_train)\n",
    "y_pred = lasso.predict(X_test)\n",
    "\n",
    "train_rmse = np.sqrt(metrics.mean_squared_error(y_train, y_train_pred))\n",
    "test_rmse = np.sqrt(metrics.mean_squared_error(y_test, y_pred))\n",
    "print('Training RMSE: '+ str(train_rmse) )\n",
    "print('Testing RMSE: '+ str(test_rmse) )\n",
    "print(train_rmse-test_rmse)"
   ]
  },
  {
   "cell_type": "markdown",
   "metadata": {},
   "source": [
    "## Model Evaluation"
   ]
  },
  {
   "cell_type": "code",
   "execution_count": null,
   "metadata": {},
   "outputs": [],
   "source": []
  }
 ],
 "metadata": {
  "kernelspec": {
   "display_name": "Python 3",
   "language": "python",
   "name": "python3"
  },
  "language_info": {
   "codemirror_mode": {
    "name": "ipython",
    "version": 3
   },
   "file_extension": ".py",
   "mimetype": "text/x-python",
   "name": "python",
   "nbconvert_exporter": "python",
   "pygments_lexer": "ipython3",
   "version": "3.7.4"
  }
 },
 "nbformat": 4,
 "nbformat_minor": 2
}
